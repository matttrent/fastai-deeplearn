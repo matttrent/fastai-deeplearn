{
 "cells": [
  {
   "cell_type": "code",
   "execution_count": 3,
   "metadata": {},
   "outputs": [
    {
     "name": "stderr",
     "output_type": "stream",
     "text": [
      "Using cuDNN version 5110 on context None\n",
      "Mapped name None to device cuda: Tesla K80 (0000:00:1E.0)\n",
      "Using Theano backend.\n"
     ]
    }
   ],
   "source": [
    "from __future__ import print_function, division\n",
    "\n",
    "import fastai\n",
    "from fastai.fautils import *\n",
    "\n",
    "import pandas as pd"
   ]
  },
  {
   "cell_type": "code",
   "execution_count": 4,
   "metadata": {
    "collapsed": true
   },
   "outputs": [],
   "source": [
    "%matplotlib inline\n",
    "import matplotlib as mlp\n",
    "import matplotlib.pyplot as plt"
   ]
  },
  {
   "cell_type": "code",
   "execution_count": 5,
   "metadata": {
    "collapsed": true
   },
   "outputs": [],
   "source": [
    "full_data_path = os.path.expanduser('~/data/state-farm/')\n",
    "samp_data_path = os.path.expanduser('~/data/sample-state-farm/')\n",
    "data_path = samp_data_path\n",
    "batch_size = 64"
   ]
  },
  {
   "cell_type": "markdown",
   "metadata": {},
   "source": [
    "# overview\n",
    "\n",
    "This notebook shows a lot of exploratory work with the State Farm kaggle challenge.  The biggest takeaways are:\n",
    "\n",
    "1. Find the smallest sample size that produces consistent results\n",
    "1. Start with very small models and quickly work up in complexity, till you're overfitting\n",
    "1. Selecting the initial training rate, and adjusting it through training is really important\n",
    "1. Get familiar with data augmentation, but remember you can't precompute your convolutional layers\n",
    "1. Dropout is super important, but the value is dependent on your training set size, so you need to relearn it after you finish with the sample set"
   ]
  },
  {
   "cell_type": "markdown",
   "metadata": {},
   "source": [
    "# regenerate sample dataset\n",
    "\n",
    "**TODO:** Regenerate initial state farm dataset so drivers are split between training and validation sets."
   ]
  },
  {
   "cell_type": "code",
   "execution_count": 10,
   "metadata": {},
   "outputs": [
    {
     "name": "stdout",
     "output_type": "stream",
     "text": [
      "['p002', 'p012', 'p014', 'p015', 'p016', 'p021', 'p022', 'p024', 'p026', 'p035', 'p039', 'p041', 'p042', 'p045', 'p047', 'p049', 'p050', 'p051', 'p052', 'p056', 'p061', 'p064', 'p066', 'p072', 'p075', 'p081']\n"
     ]
    }
   ],
   "source": [
    "df = pd.read_csv(os.path.expanduser('~/data/state-farm/driver_imgs_list.csv'))\n",
    "subjects = df.subject.unique().tolist()\n",
    "subjects.sort()\n",
    "print(subjects)"
   ]
  },
  {
   "cell_type": "code",
   "execution_count": 11,
   "metadata": {},
   "outputs": [
    {
     "name": "stdout",
     "output_type": "stream",
     "text": [
      "/home/ubuntu/data/state-farm\n"
     ]
    }
   ],
   "source": [
    "# %cd ~/data/state-farm/"
   ]
  },
  {
   "cell_type": "code",
   "execution_count": 12,
   "metadata": {
    "collapsed": true
   },
   "outputs": [],
   "source": [
    "# %rm -rf ../sample-state-farm/\n",
    "\n",
    "# %mkdir ../sample-state-farm\n",
    "# %mkdir ../sample-state-farm/train\n",
    "# %mkdir ../sample-state-farm/valid\n",
    "# %mkdir ../sample-state-farm/test"
   ]
  },
  {
   "cell_type": "code",
   "execution_count": 14,
   "metadata": {
    "collapsed": true
   },
   "outputs": [],
   "source": [
    "# for dd in glob('train/c?'):\n",
    "#     d = os.path.split(dd)[-1]\n",
    "#     os.mkdir('../sample-state-farm/train/'+d)\n",
    "#     os.mkdir('../sample-state-farm/valid/'+d)"
   ]
  },
  {
   "cell_type": "code",
   "execution_count": 16,
   "metadata": {},
   "outputs": [],
   "source": [
    "# %cd train"
   ]
  },
  {
   "cell_type": "code",
   "execution_count": 17,
   "metadata": {
    "collapsed": true
   },
   "outputs": [],
   "source": [
    "# from shutil import copyfile\n",
    "\n",
    "# g = glob('c?/*.jpg')\n",
    "# shuf = np.random.permutation(g)\n",
    "# for i in range(1500):\n",
    "#     copyfile(shuf[i], '../../sample-state-farm/train/' + shuf[i])"
   ]
  },
  {
   "cell_type": "code",
   "execution_count": 18,
   "metadata": {},
   "outputs": [
    {
     "name": "stdout",
     "output_type": "stream",
     "text": [
      "/home/ubuntu/data/state-farm/valid\n"
     ]
    }
   ],
   "source": [
    "# %cd ../valid/"
   ]
  },
  {
   "cell_type": "code",
   "execution_count": 19,
   "metadata": {
    "collapsed": true
   },
   "outputs": [],
   "source": [
    "# from shutil import copyfile\n",
    "\n",
    "# g = glob('c?/*.jpg')\n",
    "# shuf = np.random.permutation(g)\n",
    "# for i in range(1000):\n",
    "#     copyfile(shuf[i], '../../sample-state-farm/valid/' + shuf[i])"
   ]
  },
  {
   "cell_type": "code",
   "execution_count": 20,
   "metadata": {},
   "outputs": [
    {
     "name": "stdout",
     "output_type": "stream",
     "text": [
      "/home/ubuntu/projects/fastai-deep-learning/notebooks\n"
     ]
    }
   ],
   "source": [
    "# %cd ~/projects/fastai-deep-learning/notebooks/"
   ]
  },
  {
   "cell_type": "markdown",
   "metadata": {},
   "source": [
    "# create batches"
   ]
  },
  {
   "cell_type": "code",
   "execution_count": 4,
   "metadata": {},
   "outputs": [
    {
     "name": "stdout",
     "output_type": "stream",
     "text": [
      "Found 1500 images belonging to 10 classes.\n",
      "Found 1000 images belonging to 10 classes.\n",
      "Found 1500 images belonging to 10 classes.\n",
      "Found 1000 images belonging to 10 classes.\n",
      "Found 0 images belonging to 0 classes.\n"
     ]
    }
   ],
   "source": [
    "t_batches = get_batches(data_path + 'train', batch_size=batch_size)\n",
    "v_batches = get_batches(data_path + 'valid', batch_size=2*batch_size, shuffle=False)\n",
    "\n",
    "(\n",
    "    val_classes, trn_classes, \n",
    "    val_labels, trn_labels, \n",
    "    val_filenames, filenames,\n",
    "    test_filename\n",
    ") = get_classes(data_path)"
   ]
  },
  {
   "cell_type": "markdown",
   "metadata": {},
   "source": [
    "# linear model"
   ]
  },
  {
   "cell_type": "code",
   "execution_count": 13,
   "metadata": {
    "collapsed": true
   },
   "outputs": [],
   "source": [
    "def get_lin_model():\n",
    "\n",
    "    # starting with BatchNormalization saves us from having to normalize our input manually\n",
    "    model = Sequential([\n",
    "        BatchNormalization(axis=1, input_shape=(3, 224, 224)),\n",
    "        Flatten(),\n",
    "        Dense(10, activation='softmax')\n",
    "    ])\n",
    "    model.compile(\n",
    "        Adam(), \n",
    "        loss='categorical_crossentropy', \n",
    "        metrics=['accuracy']\n",
    "    )\n",
    "    return model"
   ]
  },
  {
   "cell_type": "code",
   "execution_count": 14,
   "metadata": {},
   "outputs": [
    {
     "name": "stdout",
     "output_type": "stream",
     "text": [
      "____________________________________________________________________________________________________\n",
      "Layer (type)                     Output Shape          Param #     Connected to                     \n",
      "====================================================================================================\n",
      "batchnormalization_1 (BatchNorma (None, 3, 224, 224)   12          batchnormalization_input_1[0][0] \n",
      "____________________________________________________________________________________________________\n",
      "flatten_1 (Flatten)              (None, 150528)        0           batchnormalization_1[0][0]       \n",
      "____________________________________________________________________________________________________\n",
      "dense_1 (Dense)                  (None, 10)            1505290     flatten_1[0][0]                  \n",
      "====================================================================================================\n",
      "Total params: 1,505,302\n",
      "Trainable params: 1,505,296\n",
      "Non-trainable params: 6\n",
      "____________________________________________________________________________________________________\n",
      "Epoch 1/1\n",
      "1500/1500 [==============================] - 42s - loss: 12.8955 - acc: 0.1520 - val_loss: 13.5688 - val_acc: 0.1560\n"
     ]
    },
    {
     "data": {
      "text/plain": [
       "<keras.callbacks.History at 0x7f80bab54990>"
      ]
     },
     "execution_count": 14,
     "metadata": {},
     "output_type": "execute_result"
    }
   ],
   "source": [
    "lm = get_lin_model()\n",
    "lm.summary()\n",
    "\n",
    "lm.fit_generator(\n",
    "    t_batches, \n",
    "    t_batches.nb_sample, \n",
    "    nb_epoch=1, \n",
    "    validation_data=v_batches, \n",
    "    nb_val_samples=v_batches.nb_sample\n",
    ")"
   ]
  },
  {
   "cell_type": "code",
   "execution_count": 15,
   "metadata": {},
   "outputs": [
    {
     "data": {
      "text/plain": [
       "array([[ 0.,  0.,  0.,  1.,  0.,  0.,  0.,  0.,  0.,  0.],\n",
       "       [ 0.,  0.,  0.,  1.,  0.,  0.,  0.,  0.,  0.,  0.],\n",
       "       [ 0.,  0.,  0.,  1.,  0.,  0.,  0.,  0.,  0.,  0.],\n",
       "       [ 0.,  0.,  0.,  1.,  0.,  0.,  0.,  0.,  0.,  0.],\n",
       "       [ 0.,  0.,  0.,  1.,  0.,  0.,  0.,  0.,  0.,  0.],\n",
       "       [ 0.,  0.,  0.,  1.,  0.,  0.,  0.,  0.,  0.,  0.],\n",
       "       [ 0.,  0.,  0.,  1.,  0.,  0.,  0.,  0.,  0.,  0.],\n",
       "       [ 0.,  0.,  0.,  1.,  0.,  0.,  0.,  0.,  0.,  0.],\n",
       "       [ 0.,  0.,  0.,  0.,  0.,  0.,  0.,  0.,  0.,  1.],\n",
       "       [ 0.,  0.,  0.,  1.,  0.,  0.,  0.,  0.,  0.,  0.]], dtype=float32)"
      ]
     },
     "execution_count": 15,
     "metadata": {},
     "output_type": "execute_result"
    }
   ],
   "source": [
    "np.round(lm.predict_generator(t_batches, t_batches.nb_sample)[:10],2)"
   ]
  },
  {
   "cell_type": "markdown",
   "metadata": {},
   "source": [
    "Model is entirely predicting 2 of the classes.  Not very useful.  Lower the learning rate and try again."
   ]
  },
  {
   "cell_type": "code",
   "execution_count": 36,
   "metadata": {},
   "outputs": [
    {
     "name": "stdout",
     "output_type": "stream",
     "text": [
      "Epoch 1/2\n",
      "1500/1500 [==============================] - 39s - loss: 2.4683 - acc: 0.1660 - val_loss: 3.9722 - val_acc: 0.1870\n",
      "Epoch 2/2\n",
      "1500/1500 [==============================] - 31s - loss: 1.7675 - acc: 0.4147 - val_loss: 2.4385 - val_acc: 0.3190\n"
     ]
    },
    {
     "data": {
      "text/plain": [
       "<keras.callbacks.History at 0x7f809a9bea50>"
      ]
     },
     "execution_count": 36,
     "metadata": {},
     "output_type": "execute_result"
    }
   ],
   "source": [
    "lm = get_lin_model()\n",
    "\n",
    "lm.optimizer.lr.set_value(1e-5)\n",
    "lm.fit_generator(\n",
    "    t_batches, \n",
    "    t_batches.nb_sample, \n",
    "    nb_epoch=2, \n",
    "    validation_data=v_batches, \n",
    "    nb_val_samples=v_batches.nb_sample\n",
    ")"
   ]
  },
  {
   "cell_type": "code",
   "execution_count": 17,
   "metadata": {},
   "outputs": [
    {
     "name": "stdout",
     "output_type": "stream",
     "text": [
      "Epoch 1/4\n",
      "1500/1500 [==============================] - 40s - loss: 1.3893 - acc: 0.6007 - val_loss: 1.8993 - val_acc: 0.3790\n",
      "Epoch 2/4\n",
      "1500/1500 [==============================] - 29s - loss: 1.1313 - acc: 0.6720 - val_loss: 1.4696 - val_acc: 0.5150\n",
      "Epoch 3/4\n",
      "1500/1500 [==============================] - 30s - loss: 0.9877 - acc: 0.7447 - val_loss: 1.1339 - val_acc: 0.6470\n",
      "Epoch 4/4\n",
      "1500/1500 [==============================] - 31s - loss: 0.8400 - acc: 0.8093 - val_loss: 1.0171 - val_acc: 0.7040\n"
     ]
    },
    {
     "data": {
      "text/plain": [
       "<keras.callbacks.History at 0x7f80b88fbd50>"
      ]
     },
     "execution_count": 17,
     "metadata": {},
     "output_type": "execute_result"
    }
   ],
   "source": [
    "lm.optimizer.lr.set_value(1e-3)\n",
    "lm.fit_generator(\n",
    "    t_batches, \n",
    "    t_batches.nb_sample, \n",
    "    nb_epoch=4,\n",
    "    validation_data=v_batches, \n",
    "    nb_val_samples=v_batches.nb_sample\n",
    ")"
   ]
  },
  {
   "cell_type": "markdown",
   "metadata": {},
   "source": [
    "Validation accuracy of 0.64 -- almost too good to be true, and definitely better than chance.\n",
    "\n",
    "Now lets make sure validation set is large enough to ensure a stable accuracy metric across runs, so we aren't making the wrong generalization about the results we're observing."
   ]
  },
  {
   "cell_type": "code",
   "execution_count": 18,
   "metadata": {},
   "outputs": [
    {
     "name": "stdout",
     "output_type": "stream",
     "text": [
      "Found 1000 images belonging to 10 classes.\n"
     ]
    },
    {
     "data": {
      "text/plain": [
       "array([[ 1.02,  0.7 ],\n",
       "       [ 1.03,  0.7 ],\n",
       "       [ 1.01,  0.7 ],\n",
       "       [ 1.02,  0.71],\n",
       "       [ 1.  ,  0.7 ],\n",
       "       [ 1.04,  0.69],\n",
       "       [ 1.  ,  0.71],\n",
       "       [ 1.04,  0.7 ],\n",
       "       [ 1.02,  0.7 ],\n",
       "       [ 1.04,  0.69]])"
      ]
     },
     "execution_count": 18,
     "metadata": {},
     "output_type": "execute_result"
    }
   ],
   "source": [
    "r_batches = get_batches(data_path+'valid', batch_size=2*batch_size)\n",
    "val_res = [lm.evaluate_generator(r_batches, r_batches.nb_sample) for i in range(10)]\n",
    "np.round(val_res, 2)"
   ]
  },
  {
   "cell_type": "markdown",
   "metadata": {},
   "source": [
    "Consisent results.  Accuracy increases larger than than 2% can't be attributed to chance."
   ]
  },
  {
   "cell_type": "markdown",
   "metadata": {},
   "source": [
    "# regularized linear model"
   ]
  },
  {
   "cell_type": "code",
   "execution_count": 19,
   "metadata": {
    "collapsed": true
   },
   "outputs": [],
   "source": [
    "def get_reglin_model():\n",
    "\n",
    "    model = Sequential([\n",
    "        BatchNormalization(axis=1, input_shape=(3, 224, 224)),\n",
    "        Flatten(),\n",
    "        Dense(10, activation='softmax', W_regularizer=l2(0.01))\n",
    "    ])\n",
    "    model.compile(\n",
    "        Adam(), \n",
    "        loss='categorical_crossentropy', \n",
    "        metrics=['accuracy']\n",
    "    )\n",
    "    return model"
   ]
  },
  {
   "cell_type": "code",
   "execution_count": 20,
   "metadata": {},
   "outputs": [
    {
     "name": "stdout",
     "output_type": "stream",
     "text": [
      "Epoch 1/2\n",
      "1500/1500 [==============================] - 38s - loss: 2.5457 - acc: 0.1920 - val_loss: 3.7482 - val_acc: 0.2260\n",
      "Epoch 2/2\n",
      "1500/1500 [==============================] - 29s - loss: 1.9201 - acc: 0.4160 - val_loss: 2.4799 - val_acc: 0.3470\n",
      "Epoch 1/4\n",
      "1500/1500 [==============================] - 38s - loss: 1.5539 - acc: 0.5967 - val_loss: 1.9994 - val_acc: 0.4250\n",
      "Epoch 2/4\n",
      "1500/1500 [==============================] - 30s - loss: 1.3283 - acc: 0.6793 - val_loss: 1.4563 - val_acc: 0.5930\n",
      "Epoch 3/4\n",
      "1500/1500 [==============================] - 30s - loss: 1.1911 - acc: 0.7513 - val_loss: 1.4038 - val_acc: 0.5940\n",
      "Epoch 4/4\n",
      "1500/1500 [==============================] - 30s - loss: 1.0617 - acc: 0.8040 - val_loss: 1.2790 - val_acc: 0.6680\n"
     ]
    },
    {
     "data": {
      "text/plain": [
       "<keras.callbacks.History at 0x7f80b324a350>"
      ]
     },
     "execution_count": 20,
     "metadata": {},
     "output_type": "execute_result"
    }
   ],
   "source": [
    "rlm = get_reglin_model()\n",
    "\n",
    "rlm.optimizer.lr.set_value(1e-5)\n",
    "rlm.fit_generator(\n",
    "    t_batches, \n",
    "    t_batches.nb_sample, \n",
    "    nb_epoch=2, \n",
    "    validation_data=v_batches, \n",
    "    nb_val_samples=v_batches.nb_sample\n",
    ")\n",
    "\n",
    "rlm.optimizer.lr.set_value(1e-3)\n",
    "rlm.fit_generator(\n",
    "    t_batches, \n",
    "    t_batches.nb_sample, \n",
    "    nb_epoch=4, \n",
    "    validation_data=v_batches, \n",
    "    nb_val_samples=v_batches.nb_sample\n",
    ")"
   ]
  },
  {
   "cell_type": "markdown",
   "metadata": {},
   "source": [
    "Single linear model with regularization is getting 64% accuracy."
   ]
  },
  {
   "cell_type": "markdown",
   "metadata": {},
   "source": [
    "# single dense layer"
   ]
  },
  {
   "cell_type": "code",
   "execution_count": 21,
   "metadata": {
    "collapsed": true
   },
   "outputs": [],
   "source": [
    "def get_fc_model():\n",
    "\n",
    "    model = Sequential([\n",
    "        BatchNormalization(axis=1, input_shape=(3, 224, 224)),\n",
    "        Flatten(),\n",
    "        Dense(100, activation='relu'),\n",
    "        BatchNormalization(),\n",
    "        Dense(10, activation='softmax')\n",
    "    ])\n",
    "    model.compile(\n",
    "        Adam(), \n",
    "        loss='categorical_crossentropy', \n",
    "        metrics=['accuracy']\n",
    "    )\n",
    "    return model"
   ]
  },
  {
   "cell_type": "code",
   "execution_count": 22,
   "metadata": {},
   "outputs": [
    {
     "name": "stdout",
     "output_type": "stream",
     "text": [
      "____________________________________________________________________________________________________\n",
      "Layer (type)                     Output Shape          Param #     Connected to                     \n",
      "====================================================================================================\n",
      "batchnormalization_4 (BatchNorma (None, 3, 224, 224)   12          batchnormalization_input_4[0][0] \n",
      "____________________________________________________________________________________________________\n",
      "flatten_4 (Flatten)              (None, 150528)        0           batchnormalization_4[0][0]       \n",
      "____________________________________________________________________________________________________\n",
      "dense_4 (Dense)                  (None, 100)           15052900    flatten_4[0][0]                  \n",
      "____________________________________________________________________________________________________\n",
      "batchnormalization_5 (BatchNorma (None, 100)           400         dense_4[0][0]                    \n",
      "____________________________________________________________________________________________________\n",
      "dense_5 (Dense)                  (None, 10)            1010        batchnormalization_5[0][0]       \n",
      "====================================================================================================\n",
      "Total params: 15,054,322\n",
      "Trainable params: 15,054,116\n",
      "Non-trainable params: 206\n",
      "____________________________________________________________________________________________________\n"
     ]
    }
   ],
   "source": [
    "fc = get_fc_model()\n",
    "fc.summary()"
   ]
  },
  {
   "cell_type": "code",
   "execution_count": 23,
   "metadata": {},
   "outputs": [
    {
     "name": "stdout",
     "output_type": "stream",
     "text": [
      "Epoch 1/2\n",
      "1500/1500 [==============================] - 41s - loss: 2.0159 - acc: 0.3413 - val_loss: 8.0656 - val_acc: 0.1280\n",
      "Epoch 2/2\n",
      "1500/1500 [==============================] - 30s - loss: 1.1137 - acc: 0.6773 - val_loss: 3.1675 - val_acc: 0.3120\n",
      "Epoch 1/5\n",
      "1500/1500 [==============================] - 40s - loss: 0.6243 - acc: 0.8647 - val_loss: 1.4680 - val_acc: 0.5360\n",
      "Epoch 2/5\n",
      "1500/1500 [==============================] - 29s - loss: 0.4106 - acc: 0.9300 - val_loss: 0.8222 - val_acc: 0.7380\n",
      "Epoch 3/5\n",
      "1500/1500 [==============================] - 29s - loss: 0.2662 - acc: 0.9693 - val_loss: 0.6014 - val_acc: 0.8360\n",
      "Epoch 4/5\n",
      "1500/1500 [==============================] - 30s - loss: 0.1932 - acc: 0.9840 - val_loss: 0.5460 - val_acc: 0.8690\n",
      "Epoch 5/5\n",
      "1500/1500 [==============================] - 32s - loss: 0.1286 - acc: 0.9947 - val_loss: 0.4677 - val_acc: 0.8910\n"
     ]
    },
    {
     "data": {
      "text/plain": [
       "<keras.callbacks.History at 0x7f80ac03cc10>"
      ]
     },
     "execution_count": 23,
     "metadata": {},
     "output_type": "execute_result"
    }
   ],
   "source": [
    "fc.optimizer.lr.set_value(1e-5)\n",
    "fc.fit_generator(\n",
    "    t_batches, \n",
    "    t_batches.nb_sample, \n",
    "    nb_epoch=2, \n",
    "    validation_data=v_batches, \n",
    "    nb_val_samples=v_batches.nb_sample\n",
    ")\n",
    "\n",
    "fc.optimizer.lr.set_value(0.01)\n",
    "fc.fit_generator(\n",
    "    t_batches, \n",
    "    t_batches.nb_sample, \n",
    "    nb_epoch=5, \n",
    "    validation_data=v_batches, \n",
    "    nb_val_samples=v_batches.nb_sample\n",
    ")"
   ]
  },
  {
   "cell_type": "markdown",
   "metadata": {},
   "source": [
    "Wow, 89% accuracy with 2 fully connected layers.  Why is this so much better than the sample?"
   ]
  },
  {
   "cell_type": "markdown",
   "metadata": {},
   "source": [
    "# simple conv layers"
   ]
  },
  {
   "cell_type": "code",
   "execution_count": 20,
   "metadata": {
    "collapsed": true
   },
   "outputs": [],
   "source": [
    "def get_conv_model(t_batches=t_batches, v_batches=v_batches, train=True):\n",
    "\n",
    "    model = Sequential([\n",
    "        BatchNormalization(axis=1, input_shape=(3, 224, 224)),\n",
    "        Convolution2D(32,3,3, activation='relu'),\n",
    "        BatchNormalization(axis=1),\n",
    "        MaxPooling2D((3,3)),\n",
    "        Convolution2D(64,3,3, activation='relu'),\n",
    "        BatchNormalization(axis=1),\n",
    "        MaxPooling2D((3,3)),\n",
    "        Flatten(),\n",
    "        Dense(200, activation='relu'),\n",
    "        BatchNormalization(),\n",
    "        Dense(10, activation='softmax')\n",
    "    ])\n",
    "    model.compile(\n",
    "        Adam(), \n",
    "        loss='categorical_crossentropy', \n",
    "        metrics=['accuracy']\n",
    "    )\n",
    "    \n",
    "    if not train:\n",
    "        return model\n",
    "    \n",
    "    model.optimizer.lr.set_value(1e-4)\n",
    "    h = model.fit_generator(\n",
    "        t_batches, \n",
    "        t_batches.nb_sample, \n",
    "        nb_epoch=2, \n",
    "        validation_data=v_batches, \n",
    "        nb_val_samples=v_batches.nb_sample\n",
    "    )\n",
    "\n",
    "    model.optimizer.lr.set_value(1e-3)\n",
    "    h = model.fit_generator(\n",
    "        t_batches, \n",
    "        t_batches.nb_sample, \n",
    "        nb_epoch=4, \n",
    "        validation_data=v_batches, \n",
    "        nb_val_samples=v_batches.nb_sample\n",
    "    )\n",
    "    \n",
    "    return model"
   ]
  },
  {
   "cell_type": "code",
   "execution_count": 39,
   "metadata": {},
   "outputs": [
    {
     "name": "stdout",
     "output_type": "stream",
     "text": [
      "Epoch 1/2\n",
      "1500/1500 [==============================] - 46s - loss: 1.5421 - acc: 0.5367 - val_loss: 1.8506 - val_acc: 0.3610\n",
      "Epoch 2/2\n",
      "1500/1500 [==============================] - 31s - loss: 0.4056 - acc: 0.9153 - val_loss: 1.5868 - val_acc: 0.5370\n",
      "Epoch 1/4\n",
      "1500/1500 [==============================] - 41s - loss: 0.3371 - acc: 0.9267 - val_loss: 1.3590 - val_acc: 0.5930\n",
      "Epoch 2/4\n",
      "1500/1500 [==============================] - 32s - loss: 0.0787 - acc: 0.9900 - val_loss: 1.6165 - val_acc: 0.4890\n",
      "Epoch 3/4\n",
      "1500/1500 [==============================] - 31s - loss: 0.0212 - acc: 0.9980 - val_loss: 1.9551 - val_acc: 0.3700\n",
      "Epoch 4/4\n",
      "1500/1500 [==============================] - 30s - loss: 0.0089 - acc: 0.9993 - val_loss: 2.1163 - val_acc: 0.3420\n",
      "____________________________________________________________________________________________________\n",
      "Layer (type)                     Output Shape          Param #     Connected to                     \n",
      "====================================================================================================\n",
      "batchnormalization_39 (BatchNorm (None, 3, 224, 224)   12          batchnormalization_input_14[0][0]\n",
      "____________________________________________________________________________________________________\n",
      "convolution2d_17 (Convolution2D) (None, 32, 222, 222)  896         batchnormalization_39[0][0]      \n",
      "____________________________________________________________________________________________________\n",
      "batchnormalization_40 (BatchNorm (None, 32, 222, 222)  128         convolution2d_17[0][0]           \n",
      "____________________________________________________________________________________________________\n",
      "maxpooling2d_17 (MaxPooling2D)   (None, 32, 74, 74)    0           batchnormalization_40[0][0]      \n",
      "____________________________________________________________________________________________________\n",
      "convolution2d_18 (Convolution2D) (None, 64, 72, 72)    18496       maxpooling2d_17[0][0]            \n",
      "____________________________________________________________________________________________________\n",
      "batchnormalization_41 (BatchNorm (None, 64, 72, 72)    256         convolution2d_18[0][0]           \n",
      "____________________________________________________________________________________________________\n",
      "maxpooling2d_18 (MaxPooling2D)   (None, 64, 24, 24)    0           batchnormalization_41[0][0]      \n",
      "____________________________________________________________________________________________________\n",
      "flatten_14 (Flatten)             (None, 36864)         0           maxpooling2d_18[0][0]            \n",
      "____________________________________________________________________________________________________\n",
      "dense_23 (Dense)                 (None, 200)           7373000     flatten_14[0][0]                 \n",
      "____________________________________________________________________________________________________\n",
      "batchnormalization_42 (BatchNorm (None, 200)           800         dense_23[0][0]                   \n",
      "____________________________________________________________________________________________________\n",
      "dense_24 (Dense)                 (None, 10)            2010        batchnormalization_42[0][0]      \n",
      "====================================================================================================\n",
      "Total params: 7,395,598\n",
      "Trainable params: 7,395,000\n",
      "Non-trainable params: 598\n",
      "____________________________________________________________________________________________________\n"
     ]
    }
   ],
   "source": [
    "cm = get_conv_model()\n",
    "cm.summary()"
   ]
  },
  {
   "cell_type": "markdown",
   "metadata": {},
   "source": [
    "Very rapidly learning the training data and failing to generalize to the validation dataset."
   ]
  },
  {
   "cell_type": "markdown",
   "metadata": {},
   "source": [
    "# data augmentation"
   ]
  },
  {
   "cell_type": "code",
   "execution_count": 26,
   "metadata": {},
   "outputs": [
    {
     "name": "stdout",
     "output_type": "stream",
     "text": [
      "Found 1500 images belonging to 10 classes.\n",
      "Epoch 1/2\n",
      "1500/1500 [==============================] - 39s - loss: 2.1456 - acc: 0.3387 - val_loss: 2.6849 - val_acc: 0.2140\n",
      "Epoch 2/2\n",
      "1500/1500 [==============================] - 30s - loss: 1.1573 - acc: 0.6500 - val_loss: 2.0351 - val_acc: 0.2800\n",
      "Epoch 1/4\n",
      "1500/1500 [==============================] - 39s - loss: 0.7907 - acc: 0.7640 - val_loss: 2.0810 - val_acc: 0.2800\n",
      "Epoch 2/4\n",
      "1500/1500 [==============================] - 32s - loss: 0.5969 - acc: 0.8307 - val_loss: 2.0220 - val_acc: 0.2950\n",
      "Epoch 3/4\n",
      "1500/1500 [==============================] - 29s - loss: 0.4668 - acc: 0.8773 - val_loss: 1.9915 - val_acc: 0.3470\n",
      "Epoch 4/4\n",
      "1500/1500 [==============================] - 32s - loss: 0.3911 - acc: 0.9000 - val_loss: 1.9675 - val_acc: 0.3350\n"
     ]
    }
   ],
   "source": [
    "gen_t = image.ImageDataGenerator(width_shift_range=0.1)\n",
    "batches = get_batches(data_path+'train', gen_t, batch_size=batch_size)\n",
    "\n",
    "model = get_conv_model(batches)"
   ]
  },
  {
   "cell_type": "code",
   "execution_count": 27,
   "metadata": {},
   "outputs": [
    {
     "name": "stdout",
     "output_type": "stream",
     "text": [
      "Found 1500 images belonging to 10 classes.\n",
      "Epoch 1/2\n",
      "1500/1500 [==============================] - 39s - loss: 1.9171 - acc: 0.3907 - val_loss: 2.0805 - val_acc: 0.3340\n",
      "Epoch 2/2\n",
      "1500/1500 [==============================] - 30s - loss: 0.8405 - acc: 0.7560 - val_loss: 1.8873 - val_acc: 0.2770\n",
      "Epoch 1/4\n",
      "1500/1500 [==============================] - 40s - loss: 0.5072 - acc: 0.8707 - val_loss: 2.0501 - val_acc: 0.3230\n",
      "Epoch 2/4\n",
      "1500/1500 [==============================] - 33s - loss: 0.3236 - acc: 0.9287 - val_loss: 2.1987 - val_acc: 0.3110\n",
      "Epoch 3/4\n",
      "1500/1500 [==============================] - 30s - loss: 0.2141 - acc: 0.9493 - val_loss: 2.2473 - val_acc: 0.3120\n",
      "Epoch 4/4\n",
      "1500/1500 [==============================] - 30s - loss: 0.1854 - acc: 0.9640 - val_loss: 2.2111 - val_acc: 0.2910\n"
     ]
    }
   ],
   "source": [
    "gen_t = image.ImageDataGenerator(height_shift_range=0.05)\n",
    "batches = get_batches(data_path+'train', gen_t, batch_size=batch_size)\n",
    "\n",
    "model = get_conv_model(batches)"
   ]
  },
  {
   "cell_type": "code",
   "execution_count": 28,
   "metadata": {},
   "outputs": [
    {
     "name": "stdout",
     "output_type": "stream",
     "text": [
      "Found 1500 images belonging to 10 classes.\n",
      "Epoch 1/2\n",
      "1500/1500 [==============================] - 42s - loss: 1.6951 - acc: 0.4773 - val_loss: 2.3676 - val_acc: 0.2660\n",
      "Epoch 2/2\n",
      "1500/1500 [==============================] - 30s - loss: 0.5238 - acc: 0.8653 - val_loss: 1.9156 - val_acc: 0.2480\n",
      "Epoch 1/4\n",
      "1500/1500 [==============================] - 42s - loss: 0.2121 - acc: 0.9653 - val_loss: 1.9712 - val_acc: 0.2690\n",
      "Epoch 2/4\n",
      "1500/1500 [==============================] - 30s - loss: 0.1151 - acc: 0.9873 - val_loss: 2.0243 - val_acc: 0.2400\n",
      "Epoch 3/4\n",
      "1500/1500 [==============================] - 30s - loss: 0.0649 - acc: 0.9933 - val_loss: 1.8606 - val_acc: 0.2980\n",
      "Epoch 4/4\n",
      "1500/1500 [==============================] - 32s - loss: 0.0448 - acc: 0.9967 - val_loss: 1.8760 - val_acc: 0.2940\n"
     ]
    }
   ],
   "source": [
    "gen_t = image.ImageDataGenerator(shear_range=0.1)\n",
    "batches = get_batches(data_path+'train', gen_t, batch_size=batch_size)\n",
    "\n",
    "model = get_conv_model(batches)"
   ]
  },
  {
   "cell_type": "code",
   "execution_count": 29,
   "metadata": {},
   "outputs": [
    {
     "name": "stdout",
     "output_type": "stream",
     "text": [
      "Found 1500 images belonging to 10 classes.\n",
      "Epoch 1/2\n",
      "1500/1500 [==============================] - 40s - loss: 2.0496 - acc: 0.3507 - val_loss: 2.7200 - val_acc: 0.1260\n",
      "Epoch 2/2\n",
      "1500/1500 [==============================] - 29s - loss: 0.9951 - acc: 0.7033 - val_loss: 1.7754 - val_acc: 0.3620\n",
      "Epoch 1/4\n",
      "1500/1500 [==============================] - 40s - loss: 0.6304 - acc: 0.8287 - val_loss: 1.8712 - val_acc: 0.2820\n",
      "Epoch 2/4\n",
      "1500/1500 [==============================] - 30s - loss: 0.4445 - acc: 0.8853 - val_loss: 2.2688 - val_acc: 0.1590\n",
      "Epoch 3/4\n",
      "1500/1500 [==============================] - 33s - loss: 0.3587 - acc: 0.9013 - val_loss: 2.2709 - val_acc: 0.1470\n",
      "Epoch 4/4\n",
      "1500/1500 [==============================] - 29s - loss: 0.2510 - acc: 0.9433 - val_loss: 2.4715 - val_acc: 0.1220\n"
     ]
    }
   ],
   "source": [
    "gen_t = image.ImageDataGenerator(rotation_range=15)\n",
    "batches = get_batches(data_path+'train', gen_t, batch_size=batch_size)\n",
    "\n",
    "model = get_conv_model(batches)"
   ]
  },
  {
   "cell_type": "code",
   "execution_count": 30,
   "metadata": {},
   "outputs": [
    {
     "name": "stdout",
     "output_type": "stream",
     "text": [
      "Found 1500 images belonging to 10 classes.\n",
      "Epoch 1/2\n",
      "1500/1500 [==============================] - 40s - loss: 1.7166 - acc: 0.4893 - val_loss: 2.0138 - val_acc: 0.2930\n",
      "Epoch 2/2\n",
      "1500/1500 [==============================] - 31s - loss: 0.4397 - acc: 0.8980 - val_loss: 1.6513 - val_acc: 0.4190\n",
      "Epoch 1/4\n",
      "1500/1500 [==============================] - 42s - loss: 0.1346 - acc: 0.9853 - val_loss: 1.7306 - val_acc: 0.4240\n",
      "Epoch 2/4\n",
      "1500/1500 [==============================] - 35s - loss: 0.0641 - acc: 0.9973 - val_loss: 1.7484 - val_acc: 0.5030\n",
      "Epoch 3/4\n",
      "1500/1500 [==============================] - 35s - loss: 0.0341 - acc: 0.9993 - val_loss: 1.7369 - val_acc: 0.5350\n",
      "Epoch 4/4\n",
      "1500/1500 [==============================] - 35s - loss: 0.0229 - acc: 0.9987 - val_loss: 1.6780 - val_acc: 0.5760\n"
     ]
    }
   ],
   "source": [
    "gen_t = image.ImageDataGenerator(channel_shift_range=20)\n",
    "batches = get_batches(data_path+'train', gen_t, batch_size=batch_size)\n",
    "\n",
    "model = get_conv_model(batches)"
   ]
  },
  {
   "cell_type": "markdown",
   "metadata": {},
   "source": [
    "# all together"
   ]
  },
  {
   "cell_type": "code",
   "execution_count": 14,
   "metadata": {},
   "outputs": [
    {
     "name": "stdout",
     "output_type": "stream",
     "text": [
      "Found 1500 images belonging to 10 classes.\n",
      "Epoch 1/2\n",
      "1500/1500 [==============================] - 45s - loss: 2.5133 - acc: 0.2273 - val_loss: 2.9376 - val_acc: 0.1880\n",
      "Epoch 2/2\n",
      "1500/1500 [==============================] - 31s - loss: 1.8441 - acc: 0.3753 - val_loss: 2.0242 - val_acc: 0.2570\n",
      "<keras.callbacks.History object at 0x7f209c099550>\n",
      "Epoch 1/4\n",
      "1500/1500 [==============================] - 38s - loss: 1.8548 - acc: 0.4173 - val_loss: 2.3941 - val_acc: 0.2560\n",
      "Epoch 2/4\n",
      "1500/1500 [==============================] - 31s - loss: 1.4714 - acc: 0.5020 - val_loss: 2.2814 - val_acc: 0.2660\n",
      "Epoch 3/4\n",
      "1500/1500 [==============================] - 29s - loss: 1.1809 - acc: 0.6147 - val_loss: 2.4339 - val_acc: 0.2040\n",
      "Epoch 4/4\n",
      "1500/1500 [==============================] - 31s - loss: 1.0778 - acc: 0.6493 - val_loss: 2.4048 - val_acc: 0.2180\n",
      "<keras.callbacks.History object at 0x7f209b6c7690>\n"
     ]
    }
   ],
   "source": [
    "gen_t = image.ImageDataGenerator(\n",
    "    width_shift_range=0.1,\n",
    "    height_shift_range=0.05,\n",
    "    shear_range=0.1,\n",
    "    rotation_range=15,\n",
    "    channel_shift_range=20\n",
    ")\n",
    "batches = get_batches(data_path + 'train', gen_t, batch_size=batch_size)\n",
    "\n",
    "model = get_conv_model(batches)"
   ]
  },
  {
   "cell_type": "code",
   "execution_count": 15,
   "metadata": {},
   "outputs": [
    {
     "name": "stdout",
     "output_type": "stream",
     "text": [
      "Epoch 1/5\n",
      "1500/1500 [==============================] - 37s - loss: 0.5271 - acc: 0.8527 - val_loss: 2.0215 - val_acc: 0.2700\n",
      "Epoch 2/5\n",
      "1500/1500 [==============================] - 27s - loss: 0.4013 - acc: 0.9033 - val_loss: 1.9464 - val_acc: 0.2810\n",
      "Epoch 3/5\n",
      "1500/1500 [==============================] - 28s - loss: 0.3007 - acc: 0.9413 - val_loss: 1.8280 - val_acc: 0.3030\n",
      "Epoch 4/5\n",
      "1500/1500 [==============================] - 28s - loss: 0.2313 - acc: 0.9620 - val_loss: 1.6918 - val_acc: 0.3320\n",
      "Epoch 5/5\n",
      "1500/1500 [==============================] - 29s - loss: 0.1789 - acc: 0.9727 - val_loss: 1.5590 - val_acc: 0.3680\n"
     ]
    }
   ],
   "source": [
    "model.optimizer.lr.set_value(0.0001)\n",
    "model.fit_generator(\n",
    "    batches, batches.nb_sample, \n",
    "    nb_epoch=5, \n",
    "    validation_data=v_batches, nb_val_samples=v_batches.nb_sample)\n",
    "model.fit_generator(\n",
    "    batches, batches.nb_sample, \n",
    "    nb_epoch=25, \n",
    "    validation_data=v_batches, nb_val_samples=v_batches.nb_sample)"
   ]
  },
  {
   "cell_type": "code",
   "execution_count": 42,
   "metadata": {},
   "outputs": [
    {
     "name": "stdout",
     "output_type": "stream",
     "text": [
      "Found 2000 images belonging to 10 classes.\n"
     ]
    },
    {
     "data": {
      "text/plain": [
       "[0.16091745710372926, 0.95399999952316283]"
      ]
     },
     "execution_count": 42,
     "metadata": {},
     "output_type": "execute_result"
    }
   ],
   "source": [
    "vf_batches = get_batches(os.path.expanduser('~/data/state-farm/') + 'valid', batch_size=2*batch_size, shuffle=False)\n",
    "model.evaluate_generator(vf_batches, vf_batches.nb_sample)"
   ]
  },
  {
   "cell_type": "code",
   "execution_count": 43,
   "metadata": {},
   "outputs": [
    {
     "name": "stdout",
     "output_type": "stream",
     "text": [
      "____________________________________________________________________________________________________\n",
      "Layer (type)                     Output Shape          Param #     Connected to                     \n",
      "====================================================================================================\n",
      "batchnormalization_43 (BatchNorm (None, 3, 224, 224)   12          batchnormalization_input_15[0][0]\n",
      "____________________________________________________________________________________________________\n",
      "convolution2d_19 (Convolution2D) (None, 32, 222, 222)  896         batchnormalization_43[0][0]      \n",
      "____________________________________________________________________________________________________\n",
      "batchnormalization_44 (BatchNorm (None, 32, 222, 222)  128         convolution2d_19[0][0]           \n",
      "____________________________________________________________________________________________________\n",
      "maxpooling2d_19 (MaxPooling2D)   (None, 32, 74, 74)    0           batchnormalization_44[0][0]      \n",
      "____________________________________________________________________________________________________\n",
      "convolution2d_20 (Convolution2D) (None, 64, 72, 72)    18496       maxpooling2d_19[0][0]            \n",
      "____________________________________________________________________________________________________\n",
      "batchnormalization_45 (BatchNorm (None, 64, 72, 72)    256         convolution2d_20[0][0]           \n",
      "____________________________________________________________________________________________________\n",
      "maxpooling2d_20 (MaxPooling2D)   (None, 64, 24, 24)    0           batchnormalization_45[0][0]      \n",
      "____________________________________________________________________________________________________\n",
      "flatten_15 (Flatten)             (None, 36864)         0           maxpooling2d_20[0][0]            \n",
      "____________________________________________________________________________________________________\n",
      "dense_25 (Dense)                 (None, 200)           7373000     flatten_15[0][0]                 \n",
      "____________________________________________________________________________________________________\n",
      "batchnormalization_46 (BatchNorm (None, 200)           800         dense_25[0][0]                   \n",
      "____________________________________________________________________________________________________\n",
      "dense_26 (Dense)                 (None, 10)            2010        batchnormalization_46[0][0]      \n",
      "====================================================================================================\n",
      "Total params: 7,395,598\n",
      "Trainable params: 7,395,000\n",
      "Non-trainable params: 598\n",
      "____________________________________________________________________________________________________\n"
     ]
    }
   ],
   "source": [
    "model.summary()"
   ]
  },
  {
   "cell_type": "code",
   "execution_count": 44,
   "metadata": {
    "collapsed": true
   },
   "outputs": [],
   "source": [
    "model.save(data_path + 'state-farm-cnn.h5')"
   ]
  },
  {
   "cell_type": "markdown",
   "metadata": {},
   "source": [
    "# full training plot"
   ]
  },
  {
   "cell_type": "code",
   "execution_count": 23,
   "metadata": {},
   "outputs": [
    {
     "name": "stdout",
     "output_type": "stream",
     "text": [
      "Found 1500 images belonging to 10 classes.\n",
      "Epoch 1/2\n",
      "1500/1500 [==============================] - 37s - loss: 2.5090 - acc: 0.2287 - val_loss: 2.7436 - val_acc: 0.1910\n",
      "Epoch 2/2\n",
      "1500/1500 [==============================] - 28s - loss: 1.7861 - acc: 0.3973 - val_loss: 2.2133 - val_acc: 0.2020\n",
      "Epoch 1/4\n",
      "1500/1500 [==============================] - 41s - loss: 1.8923 - acc: 0.4127 - val_loss: 2.7509 - val_acc: 0.2450\n",
      "Epoch 2/4\n",
      "1500/1500 [==============================] - 30s - loss: 1.4383 - acc: 0.5367 - val_loss: 1.7658 - val_acc: 0.4150\n",
      "Epoch 3/4\n",
      "1500/1500 [==============================] - 29s - loss: 1.2423 - acc: 0.6007 - val_loss: 2.2516 - val_acc: 0.2800\n",
      "Epoch 4/4\n",
      "1500/1500 [==============================] - 28s - loss: 0.9766 - acc: 0.6827 - val_loss: 1.8854 - val_acc: 0.3480\n"
     ]
    }
   ],
   "source": [
    "history = []\n",
    "\n",
    "gen_t = image.ImageDataGenerator(\n",
    "    width_shift_range=0.1,\n",
    "    height_shift_range=0.05,\n",
    "    shear_range=0.1,\n",
    "    rotation_range=15,\n",
    "    channel_shift_range=20\n",
    ")\n",
    "batches = get_batches(data_path + 'train', gen_t, batch_size=batch_size)\n",
    "\n",
    "model = get_conv_model(train=False)\n",
    "model.optimizer.lr.set_value(1e-4)\n",
    "h = model.fit_generator(\n",
    "    batches, \n",
    "    batches.nb_sample, \n",
    "    nb_epoch=2, \n",
    "    validation_data=v_batches, \n",
    "    nb_val_samples=v_batches.nb_sample\n",
    ")\n",
    "history.append(h)\n",
    "\n",
    "model.optimizer.lr.set_value(1e-3)\n",
    "h = model.fit_generator(\n",
    "    batches, \n",
    "    batches.nb_sample, \n",
    "    nb_epoch=4, \n",
    "    validation_data=v_batches, \n",
    "    nb_val_samples=v_batches.nb_sample\n",
    ")\n",
    "history.append(h)"
   ]
  },
  {
   "cell_type": "code",
   "execution_count": 25,
   "metadata": {},
   "outputs": [
    {
     "name": "stdout",
     "output_type": "stream",
     "text": [
      "Epoch 1/5\n",
      "1500/1500 [==============================] - 38s - loss: 0.9351 - acc: 0.7047 - val_loss: 1.8350 - val_acc: 0.3520\n",
      "Epoch 2/5\n",
      "1500/1500 [==============================] - 28s - loss: 0.8673 - acc: 0.7320 - val_loss: 1.7802 - val_acc: 0.3730\n",
      "Epoch 3/5\n",
      "1500/1500 [==============================] - 29s - loss: 0.8072 - acc: 0.7360 - val_loss: 1.6951 - val_acc: 0.3970\n",
      "Epoch 4/5\n",
      "1500/1500 [==============================] - 29s - loss: 0.7635 - acc: 0.7600 - val_loss: 1.6148 - val_acc: 0.4400\n",
      "Epoch 5/5\n",
      "1500/1500 [==============================] - 31s - loss: 0.7550 - acc: 0.7673 - val_loss: 1.4959 - val_acc: 0.4880\n",
      "Epoch 1/25\n",
      "1500/1500 [==============================] - 38s - loss: 0.7199 - acc: 0.7787 - val_loss: 1.3660 - val_acc: 0.5230\n",
      "Epoch 2/25\n",
      "1500/1500 [==============================] - 29s - loss: 0.6489 - acc: 0.8007 - val_loss: 1.2511 - val_acc: 0.5470\n",
      "Epoch 3/25\n",
      "1500/1500 [==============================] - 29s - loss: 0.6544 - acc: 0.7980 - val_loss: 1.1116 - val_acc: 0.6370\n",
      "Epoch 4/25\n",
      "1500/1500 [==============================] - 30s - loss: 0.6381 - acc: 0.8020 - val_loss: 0.9837 - val_acc: 0.6770\n",
      "Epoch 5/25\n",
      "1500/1500 [==============================] - 29s - loss: 0.6348 - acc: 0.7993 - val_loss: 0.8733 - val_acc: 0.7210\n",
      "Epoch 6/25\n",
      "1500/1500 [==============================] - 33s - loss: 0.5825 - acc: 0.8273 - val_loss: 0.8122 - val_acc: 0.7420\n",
      "Epoch 7/25\n",
      "1500/1500 [==============================] - 28s - loss: 0.5198 - acc: 0.8413 - val_loss: 0.6984 - val_acc: 0.8080\n",
      "Epoch 8/25\n",
      "1500/1500 [==============================] - 28s - loss: 0.5154 - acc: 0.8493 - val_loss: 0.5975 - val_acc: 0.8670\n",
      "Epoch 9/25\n",
      "1500/1500 [==============================] - 28s - loss: 0.5126 - acc: 0.8433 - val_loss: 0.5712 - val_acc: 0.8550\n",
      "Epoch 10/25\n",
      "1500/1500 [==============================] - 31s - loss: 0.4984 - acc: 0.8553 - val_loss: 0.4881 - val_acc: 0.8780\n",
      "Epoch 11/25\n",
      "1500/1500 [==============================] - 29s - loss: 0.5033 - acc: 0.8420 - val_loss: 0.7731 - val_acc: 0.7330\n",
      "Epoch 12/25\n",
      "1500/1500 [==============================] - 29s - loss: 0.4685 - acc: 0.8607 - val_loss: 0.4089 - val_acc: 0.8970\n",
      "Epoch 13/25\n",
      "1500/1500 [==============================] - 28s - loss: 0.4482 - acc: 0.8680 - val_loss: 0.3544 - val_acc: 0.9160\n",
      "Epoch 14/25\n",
      "1500/1500 [==============================] - 29s - loss: 0.4486 - acc: 0.8640 - val_loss: 0.3375 - val_acc: 0.9240\n",
      "Epoch 15/25\n",
      "1500/1500 [==============================] - 29s - loss: 0.4352 - acc: 0.8667 - val_loss: 0.3165 - val_acc: 0.9320\n",
      "Epoch 16/25\n",
      "1500/1500 [==============================] - 30s - loss: 0.4183 - acc: 0.8713 - val_loss: 0.2850 - val_acc: 0.9270\n",
      "Epoch 17/25\n",
      "1500/1500 [==============================] - 30s - loss: 0.4258 - acc: 0.8580 - val_loss: 0.2745 - val_acc: 0.9410\n",
      "Epoch 18/25\n",
      "1500/1500 [==============================] - 29s - loss: 0.4135 - acc: 0.8780 - val_loss: 0.2743 - val_acc: 0.9320\n",
      "Epoch 19/25\n",
      "1500/1500 [==============================] - 29s - loss: 0.3909 - acc: 0.8873 - val_loss: 0.2581 - val_acc: 0.9470\n",
      "Epoch 20/25\n",
      "1500/1500 [==============================] - 28s - loss: 0.3601 - acc: 0.8947 - val_loss: 0.2419 - val_acc: 0.9410\n",
      "Epoch 21/25\n",
      "1500/1500 [==============================] - 30s - loss: 0.3596 - acc: 0.9073 - val_loss: 0.2521 - val_acc: 0.9390\n",
      "Epoch 22/25\n",
      "1500/1500 [==============================] - 29s - loss: 0.3635 - acc: 0.8933 - val_loss: 0.2343 - val_acc: 0.9390\n",
      "Epoch 23/25\n",
      "1500/1500 [==============================] - 29s - loss: 0.3365 - acc: 0.9073 - val_loss: 0.2257 - val_acc: 0.9470\n",
      "Epoch 24/25\n",
      "1500/1500 [==============================] - 30s - loss: 0.3462 - acc: 0.9027 - val_loss: 0.2211 - val_acc: 0.9400\n",
      "Epoch 25/25\n",
      "1500/1500 [==============================] - 30s - loss: 0.3441 - acc: 0.8907 - val_loss: 0.2110 - val_acc: 0.9530\n"
     ]
    }
   ],
   "source": [
    "model.optimizer.lr.set_value(0.0001)\n",
    "h = model.fit_generator(\n",
    "    batches, batches.nb_sample, \n",
    "    nb_epoch=5, \n",
    "    validation_data=v_batches, nb_val_samples=v_batches.nb_sample)\n",
    "history.append(h)\n",
    "h = model.fit_generator(\n",
    "    batches, batches.nb_sample, \n",
    "    nb_epoch=25, \n",
    "    validation_data=v_batches, nb_val_samples=v_batches.nb_sample)\n",
    "history.append(h)"
   ]
  },
  {
   "cell_type": "code",
   "execution_count": 26,
   "metadata": {},
   "outputs": [
    {
     "data": {
      "text/plain": [
       "[<matplotlib.lines.Line2D at 0x7f20929c1d10>]"
      ]
     },
     "execution_count": 26,
     "metadata": {},
     "output_type": "execute_result"
    },
    {
     "data": {
      "image/png": "[encoded data removed]",
      "text/plain": [
       "<matplotlib.figure.Figure at 0x7f20929a8210>"
      ]
     },
     "metadata": {},
     "output_type": "display_data"
    }
   ],
   "source": [
    "acc = []\n",
    "val_acc = []\n",
    "for h in history:\n",
    "    acc += h.history['acc']\n",
    "    val_acc += h.history['val_acc']\n",
    "    \n",
    "plt.plot(acc)\n",
    "plt.plot(val_acc)"
   ]
  },
  {
   "cell_type": "markdown",
   "metadata": {},
   "source": [
    "# reload model"
   ]
  },
  {
   "cell_type": "code",
   "execution_count": 5,
   "metadata": {
    "collapsed": true
   },
   "outputs": [],
   "source": [
    "model = keras.models.load_model(samp_data_path + 'state-farm-cnn.h5')"
   ]
  },
  {
   "cell_type": "code",
   "execution_count": 29,
   "metadata": {},
   "outputs": [
    {
     "name": "stdout",
     "output_type": "stream",
     "text": [
      "Found 20424 images belonging to 10 classes.\n",
      "Found 2000 images belonging to 10 classes.\n",
      "Found 20424 images belonging to 10 classes.\n",
      "Found 2000 images belonging to 10 classes.\n",
      "Found 79726 images belonging to 1 classes.\n",
      "Found 20424 images belonging to 10 classes.\n"
     ]
    }
   ],
   "source": [
    "t_batches = get_batches(full_data_path + 'train', batch_size=batch_size)\n",
    "v_batches = get_batches(full_data_path + 'valid', batch_size=2*batch_size, shuffle=False)\n",
    "\n",
    "(\n",
    "    val_classes, trn_classes, \n",
    "    val_labels, trn_labels, \n",
    "    val_filenames, filenames,\n",
    "    test_filename\n",
    ") = get_classes(full_data_path)\n",
    "\n",
    "batches = get_batches(full_data_path + 'train', gen_t, batch_size=batch_size)"
   ]
  },
  {
   "cell_type": "code",
   "execution_count": 30,
   "metadata": {},
   "outputs": [
    {
     "name": "stdout",
     "output_type": "stream",
     "text": [
      "Epoch 1/5\n",
      "20424/20424 [==============================] - 364s - loss: 0.4005 - acc: 0.8806 - val_loss: 0.1674 - val_acc: 0.9505\n",
      "Epoch 2/5\n",
      "20424/20424 [==============================] - 312s - loss: 0.3078 - acc: 0.9095 - val_loss: 0.1163 - val_acc: 0.9720\n",
      "Epoch 3/5\n",
      "20424/20424 [==============================] - 316s - loss: 0.2482 - acc: 0.9271 - val_loss: 0.0927 - val_acc: 0.9795\n",
      "Epoch 4/5\n",
      "20424/20424 [==============================] - 318s - loss: 0.2214 - acc: 0.9367 - val_loss: 0.0833 - val_acc: 0.9835\n",
      "Epoch 5/5\n",
      "20424/20424 [==============================] - 317s - loss: 0.1832 - acc: 0.9478 - val_loss: 0.0882 - val_acc: 0.9795\n"
     ]
    }
   ],
   "source": [
    "h = model.fit_generator(\n",
    "    batches, batches.nb_sample, \n",
    "    nb_epoch=5, \n",
    "    validation_data=v_batches, nb_val_samples=v_batches.nb_sample\n",
    ")\n",
    "history.append(h)"
   ]
  },
  {
   "cell_type": "code",
   "execution_count": 31,
   "metadata": {},
   "outputs": [
    {
     "data": {
      "text/plain": [
       "[<matplotlib.lines.Line2D at 0x7f209ba5b2d0>]"
      ]
     },
     "execution_count": 31,
     "metadata": {},
     "output_type": "execute_result"
    },
    {
     "data": {
      "image/png": "[encoded data removed]",
      "text/plain": [
       "<matplotlib.figure.Figure at 0x7f209246e190>"
      ]
     },
     "metadata": {},
     "output_type": "display_data"
    }
   ],
   "source": [
    "acc = []\n",
    "val_acc = []\n",
    "for h in history:\n",
    "    acc += h.history['acc']\n",
    "    val_acc += h.history['val_acc']\n",
    "    \n",
    "plt.plot(acc)\n",
    "plt.plot(val_acc)"
   ]
  },
  {
   "cell_type": "code",
   "execution_count": 32,
   "metadata": {
    "collapsed": true
   },
   "outputs": [],
   "source": [
    "model.save(full_data_path + 'state-farm-cnn.h5')"
   ]
  },
  {
   "cell_type": "markdown",
   "metadata": {},
   "source": [
    "# submit\n",
    "\n",
    "Compute test set output and actually submit."
   ]
  },
  {
   "cell_type": "code",
   "execution_count": 33,
   "metadata": {
    "collapsed": true
   },
   "outputs": [],
   "source": [
    "from fastai import kaggle\n",
    "\n",
    "def submission_df(preds, test_batches, classes):\n",
    "    # construct dataframe of the submission\n",
    "    index = pd.Series(\n",
    "        [f.split('/')[-1] for f in test_batches.filenames],\n",
    "        name='img'\n",
    "    )\n",
    "\n",
    "    df = pd.DataFrame(\n",
    "        preds,\n",
    "        index=index,\n",
    "        columns=classes\n",
    "    )\n",
    "\n",
    "    return df.sort_index()"
   ]
  },
  {
   "cell_type": "code",
   "execution_count": 34,
   "metadata": {},
   "outputs": [
    {
     "name": "stdout",
     "output_type": "stream",
     "text": [
      "Found 79726 images belonging to 1 classes.\n",
      "Found 20424 images belonging to 10 classes.\n"
     ]
    }
   ],
   "source": [
    "test_batches = get_batches(\n",
    "    full_data_path + 'test', shuffle=False, batch_size=batch_size * 2,\n",
    "    class_mode=None)\n",
    "train_batches = get_batches(\n",
    "    full_data_path + 'train', shuffle=False, batch_size=batch_size,\n",
    "    class_mode=None)\n",
    "classes = sorted(train_batches.class_indices)"
   ]
  },
  {
   "cell_type": "code",
   "execution_count": 35,
   "metadata": {
    "collapsed": true
   },
   "outputs": [],
   "source": [
    "# predict\n",
    "preds = model.predict_generator(test_batches, test_batches.nb_sample, verbose=1)"
   ]
  },
  {
   "cell_type": "code",
   "execution_count": 36,
   "metadata": {
    "collapsed": true
   },
   "outputs": [],
   "source": [
    "df = submission_df(preds, test_batches, classes)\n",
    "df = df.clip(0.05, 0.95)\n",
    "df.to_csv(full_data_path + 'submission.csv', index=True)"
   ]
  },
  {
   "cell_type": "code",
   "execution_count": 38,
   "metadata": {},
   "outputs": [
    {
     "data": {
      "text/plain": [
       "1"
      ]
     },
     "execution_count": 38,
     "metadata": {},
     "output_type": "execute_result"
    }
   ],
   "source": [
    "import subprocess\n",
    "\n",
    "cmd = [\n",
    "    'kg',\n",
    "    'submit',\n",
    "    '-u', os.environ['KAGGLE_USERNAME'],\n",
    "    '-p', os.environ['KAGGLE_PASSWORD'],\n",
    "    '-c', 'state-farm-distracted-driver-detection',\n",
    "    full_data_path + 'submission.csv'\n",
    "]\n",
    "\n",
    "subprocess.call(cmd)"
   ]
  }
 ],
 "metadata": {
  "kernelspec": {
   "display_name": "Python 2",
   "language": "python",
   "name": "python2"
  },
  "language_info": {
   "codemirror_mode": {
    "name": "ipython",
    "version": 2
   },
   "file_extension": ".py",
   "mimetype": "text/x-python",
   "name": "python",
   "nbconvert_exporter": "python",
   "pygments_lexer": "ipython2",
   "version": "2.7.13"
  }
 },
 "nbformat": 4,
 "nbformat_minor": 2
}
