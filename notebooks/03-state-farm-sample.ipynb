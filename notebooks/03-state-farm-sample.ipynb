{
 "cells": [
  {
   "cell_type": "code",
   "execution_count": 1,
   "metadata": {},
   "outputs": [
    {
     "name": "stderr",
     "output_type": "stream",
     "text": [
      "Using TensorFlow backend.\n"
     ]
    }
   ],
   "source": [
    "import fastai\n",
    "import fastai.utils\n",
    "from fastai.fautils import *\n",
    "\n",
    "import pandas as pd\n",
    "\n",
    "from keras_tqdm import TQDMNotebookCallback"
   ]
  },
  {
   "cell_type": "code",
   "execution_count": 2,
   "metadata": {
    "collapsed": true
   },
   "outputs": [],
   "source": [
    "%matplotlib inline\n",
    "import matplotlib as mlp\n",
    "import matplotlib.pyplot as plt"
   ]
  },
  {
   "cell_type": "code",
   "execution_count": 3,
   "metadata": {
    "collapsed": true
   },
   "outputs": [],
   "source": [
    "full_data_path = os.path.expanduser('~/data/state-farm/')\n",
    "samp_data_path = os.path.expanduser('~/data/sample-state-farm/')\n",
    "data_path = samp_data_path\n",
    "batch_size = 64\n",
    "\n",
    "tb_callback = keras.callbacks.TensorBoard(log_dir=data_path, batch_size=batch_size)\n",
    "callbacks = [tb_callback, TQDMNotebookCallback()]"
   ]
  },
  {
   "cell_type": "markdown",
   "metadata": {},
   "source": [
    "# overview\n",
    "\n",
    "This notebook shows a lot of exploratory work with the State Farm kaggle challenge.  The biggest takeaways are:\n",
    "\n",
    "1. Find the smallest sample size that produces consistent results\n",
    "1. Start with very small models and quickly work up in complexity, till you're overfitting\n",
    "1. Selecting the initial training rate, and adjusting it through training is really important\n",
    "1. Get familiar with data augmentation, but remember you can't precompute your convolutional layers\n",
    "1. Dropout is super important, but the value is dependent on your training set size, so you need to relearn it after you finish with the sample set"
   ]
  },
  {
   "cell_type": "markdown",
   "metadata": {},
   "source": [
    "# create batches"
   ]
  },
  {
   "cell_type": "code",
   "execution_count": 4,
   "metadata": {},
   "outputs": [
    {
     "name": "stdout",
     "output_type": "stream",
     "text": [
      "Found 1500 images belonging to 10 classes.\n",
      "Found 1000 images belonging to 10 classes.\n"
     ]
    }
   ],
   "source": [
    "t_batches = get_batches(data_path + 'train', batch_size=batch_size)\n",
    "v_batches = get_batches(data_path + 'valid', batch_size=2*batch_size, shuffle=False)\n",
    "\n",
    "# (\n",
    "#     val_classes, trn_classes, \n",
    "#     val_labels, trn_labels, \n",
    "#     val_filenames, filenames,\n",
    "#     test_filename\n",
    "# ) = get_classes(data_path)"
   ]
  },
  {
   "cell_type": "markdown",
   "metadata": {},
   "source": [
    "# linear model"
   ]
  },
  {
   "cell_type": "code",
   "execution_count": 5,
   "metadata": {
    "collapsed": true
   },
   "outputs": [],
   "source": [
    "def get_lin_model():\n",
    "\n",
    "    # starting with BatchNormalization saves us from having to normalize our input manually\n",
    "    model = Sequential([\n",
    "        BatchNormalization(axis=1, input_shape=(224, 224, 3)),\n",
    "        Flatten(),\n",
    "        Dense(10, activation='softmax')\n",
    "    ])\n",
    "    model.compile(\n",
    "        Adam(), \n",
    "        loss='categorical_crossentropy', \n",
    "        metrics=['accuracy']\n",
    "    )\n",
    "    return model"
   ]
  },
  {
   "cell_type": "code",
   "execution_count": 6,
   "metadata": {},
   "outputs": [
    {
     "name": "stdout",
     "output_type": "stream",
     "text": [
      "_________________________________________________________________\n",
      "Layer (type)                 Output Shape              Param #   \n",
      "=================================================================\n",
      "batch_normalization_1 (Batch (None, 224, 224, 3)       896       \n",
      "_________________________________________________________________\n",
      "flatten_1 (Flatten)          (None, 150528)            0         \n",
      "_________________________________________________________________\n",
      "dense_1 (Dense)              (None, 10)                1505290   \n",
      "=================================================================\n",
      "Total params: 1,506,186\n",
      "Trainable params: 1,505,738\n",
      "Non-trainable params: 448\n",
      "_________________________________________________________________\n",
      "Epoch 1/1\n",
      "23/23 [==============================] - 13s - loss: 12.6318 - acc: 0.1651 - val_loss: 12.3120 - val_acc: 0.2109\n"
     ]
    },
    {
     "data": {
      "text/plain": [
       "<keras.callbacks.History at 0x7fc289636cc0>"
      ]
     },
     "execution_count": 6,
     "metadata": {},
     "output_type": "execute_result"
    }
   ],
   "source": [
    "lm = get_lin_model()\n",
    "lm.summary()\n",
    "\n",
    "lm.fit_generator(\n",
    "    t_batches, \n",
    "    steps_per_epoch=t_batches.samples//t_batches.batch_size,\n",
    "    validation_data=v_batches, \n",
    "    validation_steps=v_batches.samples//v_batches.batch_size,\n",
    "    epochs=1\n",
    ")"
   ]
  },
  {
   "cell_type": "code",
   "execution_count": 7,
   "metadata": {},
   "outputs": [
    {
     "data": {
      "text/plain": [
       "array([[ 0.,  0.,  0.,  0.,  0.,  0.,  1.,  0.,  0.,  0.],\n",
       "       [ 0.,  0.,  0.,  0.,  0.,  0.,  1.,  0.,  0.,  0.],\n",
       "       [ 0.,  0.,  0.,  0.,  0.,  0.,  1.,  0.,  0.,  0.],\n",
       "       [ 0.,  0.,  0.,  0.,  0.,  0.,  1.,  0.,  0.,  0.],\n",
       "       [ 0.,  0.,  0.,  0.,  0.,  0.,  1.,  0.,  0.,  0.],\n",
       "       [ 0.,  0.,  0.,  0.,  0.,  0.,  1.,  0.,  0.,  0.],\n",
       "       [ 1.,  0.,  0.,  0.,  0.,  0.,  0.,  0.,  0.,  0.],\n",
       "       [ 1.,  0.,  0.,  0.,  0.,  0.,  0.,  0.,  0.,  0.],\n",
       "       [ 0.,  0.,  0.,  0.,  0.,  0.,  1.,  0.,  0.,  0.],\n",
       "       [ 0.,  0.,  0.,  0.,  0.,  0.,  1.,  0.,  0.,  0.]], dtype=float32)"
      ]
     },
     "execution_count": 7,
     "metadata": {},
     "output_type": "execute_result"
    }
   ],
   "source": [
    "np.round(lm.predict_generator(t_batches, t_batches.samples//t_batches.batch_size)[:10],2)"
   ]
  },
  {
   "cell_type": "markdown",
   "metadata": {},
   "source": [
    "Model is entirely predicting 2 of the classes.  Not very useful.  Lower the learning rate and try again."
   ]
  },
  {
   "cell_type": "code",
   "execution_count": 8,
   "metadata": {},
   "outputs": [
    {
     "name": "stdout",
     "output_type": "stream",
     "text": [
      "Epoch 1/2\n",
      "23/23 [==============================] - 12s - loss: 13.0348 - acc: 0.1474 - val_loss: 13.6715 - val_acc: 0.1473\n",
      "Epoch 2/2\n",
      "23/23 [==============================] - 9s - loss: 13.8679 - acc: 0.1380 - val_loss: 13.3523 - val_acc: 0.1708\n"
     ]
    },
    {
     "data": {
      "text/plain": [
       "<keras.callbacks.History at 0x7fc2885214a8>"
      ]
     },
     "execution_count": 8,
     "metadata": {},
     "output_type": "execute_result"
    }
   ],
   "source": [
    "lm = get_lin_model()\n",
    "\n",
    "lm.optimizer.lr.assign(1e-5)\n",
    "lm.fit_generator(\n",
    "    t_batches, \n",
    "    t_batches.samples//t_batches.batch_size,\n",
    "    validation_data=v_batches, \n",
    "    validation_steps=v_batches.samples//v_batches.batch_size,\n",
    "    epochs=2, \n",
    ")"
   ]
  },
  {
   "cell_type": "code",
   "execution_count": 9,
   "metadata": {},
   "outputs": [
    {
     "name": "stdout",
     "output_type": "stream",
     "text": [
      "Epoch 1/4\n",
      "23/23 [==============================] - 12s - loss: 13.4310 - acc: 0.1655 - val_loss: 13.6890 - val_acc: 0.1328\n",
      "Epoch 2/4\n",
      "23/23 [==============================] - 9s - loss: 13.4663 - acc: 0.1645 - val_loss: 13.9174 - val_acc: 0.1261\n",
      "Epoch 3/4\n",
      "23/23 [==============================] - 9s - loss: 13.5993 - acc: 0.1549 - val_loss: 14.4631 - val_acc: 0.1027\n",
      "Epoch 4/4\n",
      "23/23 [==============================] - 9s - loss: 13.9777 - acc: 0.1326 - val_loss: 14.4631 - val_acc: 0.1027\n"
     ]
    },
    {
     "data": {
      "text/plain": [
       "<keras.callbacks.History at 0x7fc288048f60>"
      ]
     },
     "execution_count": 9,
     "metadata": {},
     "output_type": "execute_result"
    }
   ],
   "source": [
    "lm.optimizer.lr.assign(1e-3)\n",
    "lm.fit_generator(\n",
    "    t_batches, \n",
    "    t_batches.samples//t_batches.batch_size,\n",
    "    validation_data=v_batches, \n",
    "    validation_steps=v_batches.samples//v_batches.batch_size,\n",
    "    epochs=4,\n",
    ")"
   ]
  },
  {
   "cell_type": "markdown",
   "metadata": {},
   "source": [
    "Validation accuracy of 0.43 -- almost too good to be true, and definitely better than chance.\n",
    "\n",
    "Now lets make sure validation set is large enough to ensure a stable accuracy metric across runs, so we aren't making the wrong generalization about the results we're observing."
   ]
  },
  {
   "cell_type": "code",
   "execution_count": 10,
   "metadata": {},
   "outputs": [
    {
     "name": "stdout",
     "output_type": "stream",
     "text": [
      "Found 1000 images belonging to 10 classes.\n"
     ]
    },
    {
     "data": {
      "text/plain": [
       "array([[ 14.63,   0.09],\n",
       "       [ 14.54,   0.1 ],\n",
       "       [ 14.7 ,   0.09],\n",
       "       [ 14.61,   0.09],\n",
       "       [ 14.59,   0.09],\n",
       "       [ 14.75,   0.08],\n",
       "       [ 14.59,   0.09],\n",
       "       [ 14.61,   0.09],\n",
       "       [ 14.66,   0.09],\n",
       "       [ 14.64,   0.09]])"
      ]
     },
     "execution_count": 10,
     "metadata": {},
     "output_type": "execute_result"
    }
   ],
   "source": [
    "r_batches = get_batches(data_path+'valid', batch_size=2*batch_size)\n",
    "val_res = [lm.evaluate_generator(r_batches, r_batches.samples//r_batches.batch_size) for i in range(10)]\n",
    "np.round(val_res, 2)"
   ]
  },
  {
   "cell_type": "markdown",
   "metadata": {},
   "source": [
    "Consisent results.  Accuracy increases larger than 2% can't be attributed to chance."
   ]
  },
  {
   "cell_type": "code",
   "execution_count": 11,
   "metadata": {},
   "outputs": [
    {
     "name": "stdout",
     "output_type": "stream",
     "text": [
      "Learning rate: 1e-05\n",
      "Epoch 1/6\n",
      "23/23 [==============================] - 12s - loss: 2.4357 - acc: 0.1963 - val_loss: 5.0879 - val_acc: 0.1618\n",
      "Epoch 2/6\n",
      "23/23 [==============================] - 9s - loss: 1.6260 - acc: 0.4574 - val_loss: 3.3356 - val_acc: 0.2288\n",
      "Learning rate: 0.0001\n",
      "Epoch 3/6\n",
      "23/23 [==============================] - 10s - loss: 1.0376 - acc: 0.6643 - val_loss: 3.0205 - val_acc: 0.4219\n",
      "Epoch 4/6\n",
      "23/23 [==============================] - 9s - loss: 0.4676 - acc: 0.8491 - val_loss: 2.4110 - val_acc: 0.5234\n",
      "Epoch 5/6\n",
      "23/23 [==============================] - 9s - loss: 0.1602 - acc: 0.9630 - val_loss: 2.3619 - val_acc: 0.5112\n",
      "Epoch 6/6\n",
      "23/23 [==============================] - 9s - loss: 0.0725 - acc: 0.9891 - val_loss: 1.8592 - val_acc: 0.5636\n"
     ]
    },
    {
     "data": {
      "text/plain": [
       "<keras.callbacks.History at 0x7fc280630b38>"
      ]
     },
     "execution_count": 11,
     "metadata": {},
     "output_type": "execute_result"
    }
   ],
   "source": [
    "lm2 = get_lin_model()\n",
    "\n",
    "rates = [\n",
    "    (1e-5, 2),\n",
    "    (1e-4, 4)\n",
    "]\n",
    "\n",
    "fastai.utils.fit_generator(lm2, t_batches, rates, val_batches=v_batches)\n",
    "\n",
    "# lrsched = keras.callbacks.LearningRateScheduler(\n",
    "#     fastai.utils.list_rate_schedule([\n",
    "#         (1e-5, 2),\n",
    "#         (1e-4, 4)\n",
    "#     ],\n",
    "#     output=True\n",
    "#     )\n",
    "# )\n",
    "\n",
    "# lm2.fit_generator(\n",
    "#     t_batches, \n",
    "#     t_batches.nb_sample, \n",
    "#     nb_epoch=6, \n",
    "#     validation_data=v_batches, \n",
    "#     nb_val_samples=v_batches.nb_sample,\n",
    "#     callbacks=[lrsched]\n",
    "# )"
   ]
  },
  {
   "cell_type": "code",
   "execution_count": 12,
   "metadata": {
    "scrolled": false
   },
   "outputs": [
    {
     "name": "stdout",
     "output_type": "stream",
     "text": [
      "Found 1500 images belonging to 10 classes.\n",
      "Found 1000 images belonging to 10 classes.\n",
      "_________________________________________________________________\n",
      "Layer (type)                 Output Shape              Param #   \n",
      "=================================================================\n",
      "batch_normalization_4 (Batch (None, 224, 224, 3)       896       \n",
      "_________________________________________________________________\n",
      "flatten_4 (Flatten)          (None, 150528)            0         \n",
      "_________________________________________________________________\n",
      "dense_4 (Dense)              (None, 10)                1505290   \n",
      "=================================================================\n",
      "Total params: 1,506,186\n",
      "Trainable params: 1,505,738\n",
      "Non-trainable params: 448\n",
      "_________________________________________________________________\n",
      "Learning rate: 1e-05\n",
      "Epoch 1/6\n",
      "23/23 [==============================] - 12s - loss: 2.3990 - acc: 0.2174 - val_loss: 3.9647 - val_acc: 0.2288\n",
      "Epoch 2/6\n",
      "23/23 [==============================] - 9s - loss: 1.5655 - acc: 0.4946 - val_loss: 2.7194 - val_acc: 0.3739\n",
      "Learning rate: 0.0001\n",
      "Epoch 3/6\n",
      "23/23 [==============================] - 9s - loss: 1.0866 - acc: 0.6537 - val_loss: 2.8424 - val_acc: 0.4375\n",
      "Epoch 4/6\n",
      "23/23 [==============================] - 9s - loss: 0.4991 - acc: 0.8355 - val_loss: 2.2613 - val_acc: 0.5402\n",
      "Epoch 5/6\n",
      "23/23 [==============================] - 9s - loss: 0.2091 - acc: 0.9380 - val_loss: 1.9194 - val_acc: 0.5692\n",
      "Epoch 6/6\n",
      "23/23 [==============================] - 9s - loss: 0.0933 - acc: 0.9789 - val_loss: 1.7349 - val_acc: 0.6161\n",
      "Found 1000 images belonging to 10 classes.\n",
      "[[ 1.68  0.62]\n",
      " [ 1.66  0.62]\n",
      " [ 1.64  0.63]\n",
      " [ 1.68  0.62]\n",
      " [ 1.64  0.63]\n",
      " [ 1.7   0.62]\n",
      " [ 1.63  0.63]\n",
      " [ 1.64  0.64]\n",
      " [ 1.68  0.62]\n",
      " [ 1.59  0.64]]\n"
     ]
    }
   ],
   "source": [
    "%run ../scripts/state-farm/linear-model.py"
   ]
  },
  {
   "cell_type": "markdown",
   "metadata": {},
   "source": [
    "# regularized linear model"
   ]
  },
  {
   "cell_type": "code",
   "execution_count": 13,
   "metadata": {
    "collapsed": true
   },
   "outputs": [],
   "source": [
    "def get_reglin_model():\n",
    "\n",
    "    model = Sequential([\n",
    "        BatchNormalization(axis=1, input_shape=(224, 224, 3)),\n",
    "        Flatten(),\n",
    "        Dense(10, activation='softmax', kernel_regularizer=l2(0.01))\n",
    "    ])\n",
    "    model.compile(\n",
    "        Adam(), \n",
    "        loss='categorical_crossentropy', \n",
    "        metrics=['accuracy']\n",
    "    )\n",
    "    return model"
   ]
  },
  {
   "cell_type": "code",
   "execution_count": 14,
   "metadata": {},
   "outputs": [
    {
     "name": "stdout",
     "output_type": "stream",
     "text": [
      "Learning rate: 1e-05\n",
      "Epoch 1/6\n",
      "23/23 [==============================] - 12s - loss: 2.6101 - acc: 0.1932 - val_loss: 9.8490 - val_acc: 0.0982\n",
      "Epoch 2/6\n",
      "23/23 [==============================] - 9s - loss: 1.8493 - acc: 0.4415 - val_loss: 4.6037 - val_acc: 0.1853\n",
      "Learning rate: 0.0001\n",
      "Epoch 3/6\n",
      "23/23 [==============================] - 9s - loss: 1.3177 - acc: 0.6497 - val_loss: 5.9545 - val_acc: 0.3158\n",
      "Epoch 4/6\n",
      "23/23 [==============================] - 9s - loss: 0.6405 - acc: 0.8744 - val_loss: 2.8313 - val_acc: 0.4342\n",
      "Epoch 5/6\n",
      "23/23 [==============================] - 9s - loss: 0.4010 - acc: 0.9389 - val_loss: 2.3450 - val_acc: 0.5670\n",
      "Epoch 6/6\n",
      "23/23 [==============================] - 9s - loss: 0.3007 - acc: 0.9793 - val_loss: 2.2227 - val_acc: 0.4989\n"
     ]
    },
    {
     "data": {
      "text/plain": [
       "<keras.callbacks.History at 0x7fc25e5c2c18>"
      ]
     },
     "execution_count": 14,
     "metadata": {},
     "output_type": "execute_result"
    }
   ],
   "source": [
    "rlm = get_reglin_model()\n",
    "\n",
    "rates = [\n",
    "    (1e-5, 2),\n",
    "    (1e-4, 4)\n",
    "]\n",
    "\n",
    "fastai.utils.fit_generator(rlm, t_batches, rates, val_batches=v_batches)\n",
    "\n",
    "# rlm.optimizer.lr.set_value(1e-5)\n",
    "# rlm.fit_generator(\n",
    "#     t_batches, \n",
    "#     t_batches.nb_sample, \n",
    "#     nb_epoch=2, \n",
    "#     validation_data=v_batches, \n",
    "#     nb_val_samples=v_batches.nb_sample\n",
    "# )\n",
    "\n",
    "# rlm.optimizer.lr.set_value(1e-4)\n",
    "# rlm.fit_generator(\n",
    "#     t_batches, \n",
    "#     t_batches.nb_sample, \n",
    "#     nb_epoch=4, \n",
    "#     validation_data=v_batches, \n",
    "#     nb_val_samples=v_batches.nb_sample\n",
    "# )"
   ]
  },
  {
   "cell_type": "markdown",
   "metadata": {},
   "source": [
    "Single linear model with regularization is getting 45% accuracy.  Dipped at the end which means it's continuing to overfit."
   ]
  },
  {
   "cell_type": "markdown",
   "metadata": {},
   "source": [
    "# single dense layer"
   ]
  },
  {
   "cell_type": "code",
   "execution_count": 15,
   "metadata": {
    "collapsed": true
   },
   "outputs": [],
   "source": [
    "def get_fc_model():\n",
    "\n",
    "    model = Sequential([\n",
    "        BatchNormalization(axis=1, input_shape=(224, 224, 3)),\n",
    "        Flatten(),\n",
    "        Dense(100, activation='relu'),\n",
    "        BatchNormalization(),\n",
    "        Dense(10, activation='softmax')\n",
    "    ])\n",
    "    model.compile(\n",
    "        Adam(), \n",
    "        loss='categorical_crossentropy', \n",
    "        metrics=['accuracy']\n",
    "    )\n",
    "    return model"
   ]
  },
  {
   "cell_type": "code",
   "execution_count": 16,
   "metadata": {},
   "outputs": [
    {
     "name": "stdout",
     "output_type": "stream",
     "text": [
      "_________________________________________________________________\n",
      "Layer (type)                 Output Shape              Param #   \n",
      "=================================================================\n",
      "batch_normalization_6 (Batch (None, 224, 224, 3)       896       \n",
      "_________________________________________________________________\n",
      "flatten_6 (Flatten)          (None, 150528)            0         \n",
      "_________________________________________________________________\n",
      "dense_6 (Dense)              (None, 100)               15052900  \n",
      "_________________________________________________________________\n",
      "batch_normalization_7 (Batch (None, 100)               400       \n",
      "_________________________________________________________________\n",
      "dense_7 (Dense)              (None, 10)                1010      \n",
      "=================================================================\n",
      "Total params: 15,055,206\n",
      "Trainable params: 15,054,558\n",
      "Non-trainable params: 648\n",
      "_________________________________________________________________\n"
     ]
    }
   ],
   "source": [
    "fc = get_fc_model()\n",
    "fc.summary()"
   ]
  },
  {
   "cell_type": "code",
   "execution_count": 17,
   "metadata": {},
   "outputs": [
    {
     "name": "stdout",
     "output_type": "stream",
     "text": [
      "Learning rate: 1e-05\n",
      "Epoch 1/7\n",
      "23/23 [==============================] - 12s - loss: 1.8998 - acc: 0.3744 - val_loss: 6.3468 - val_acc: 0.2098\n",
      "Epoch 2/7\n",
      "23/23 [==============================] - 9s - loss: 0.8821 - acc: 0.7784 - val_loss: 4.0477 - val_acc: 0.2042\n",
      "Learning rate: 0.01\n",
      "Epoch 3/7\n",
      "23/23 [==============================] - 9s - loss: 2.0273 - acc: 0.3525 - val_loss: 11.4310 - val_acc: 0.1094\n",
      "Epoch 4/7\n",
      "23/23 [==============================] - 9s - loss: 1.2235 - acc: 0.6345 - val_loss: 6.0620 - val_acc: 0.2232\n",
      "Epoch 5/7\n",
      "23/23 [==============================] - 9s - loss: 0.8292 - acc: 0.7774 - val_loss: 4.2570 - val_acc: 0.2746\n",
      "Epoch 6/7\n",
      "23/23 [==============================] - 9s - loss: 0.5732 - acc: 0.8469 - val_loss: 3.3024 - val_acc: 0.2946\n",
      "Epoch 7/7\n",
      "23/23 [==============================] - 9s - loss: 0.3595 - acc: 0.9193 - val_loss: 2.7566 - val_acc: 0.3203\n"
     ]
    },
    {
     "data": {
      "text/plain": [
       "<keras.callbacks.History at 0x7fc25dc6fdd8>"
      ]
     },
     "execution_count": 17,
     "metadata": {},
     "output_type": "execute_result"
    }
   ],
   "source": [
    "rates = [\n",
    "    (1e-5, 2),\n",
    "    (1e-2, 5)\n",
    "]\n",
    "\n",
    "fastai.utils.fit_generator(fc, t_batches, rates, val_batches=v_batches)\n",
    "\n",
    "# fc.optimizer.lr.set_value(1e-5)\n",
    "# fc.fit_generator(\n",
    "#     t_batches, \n",
    "#     t_batches.nb_sample, \n",
    "#     nb_epoch=2, \n",
    "#     validation_data=v_batches, \n",
    "#     nb_val_samples=v_batches.nb_sample\n",
    "# )\n",
    "\n",
    "# fc.optimizer.lr.set_value(0.01)\n",
    "# fc.fit_generator(\n",
    "#     t_batches, \n",
    "#     t_batches.nb_sample, \n",
    "#     nb_epoch=5, \n",
    "#     validation_data=v_batches, \n",
    "#     nb_val_samples=v_batches.nb_sample\n",
    "# )"
   ]
  },
  {
   "cell_type": "markdown",
   "metadata": {},
   "source": [
    "Beginning to learn the training set, but failing at validation."
   ]
  },
  {
   "cell_type": "markdown",
   "metadata": {},
   "source": [
    "# simple conv layers"
   ]
  },
  {
   "cell_type": "code",
   "execution_count": 18,
   "metadata": {
    "collapsed": true
   },
   "outputs": [],
   "source": [
    "def get_conv_model(t_batches=t_batches, v_batches=v_batches, train=True):\n",
    "\n",
    "    model = Sequential([\n",
    "        BatchNormalization(axis=1, input_shape=(224, 224, 3)),\n",
    "        Conv2D(32, (3,3), activation='relu'),\n",
    "        BatchNormalization(axis=1),\n",
    "        MaxPooling2D((3,3)),\n",
    "        Conv2D(64, (3,3), activation='relu'),\n",
    "        BatchNormalization(axis=1),\n",
    "        MaxPooling2D((3,3)),\n",
    "        Flatten(),\n",
    "        Dense(200, activation='relu'),\n",
    "        BatchNormalization(),\n",
    "        Dense(10, activation='softmax')\n",
    "    ])\n",
    "    model.compile(\n",
    "        Adam(), \n",
    "        loss='categorical_crossentropy', \n",
    "        metrics=['accuracy']\n",
    "    )\n",
    "    \n",
    "    if not train:\n",
    "        return model\n",
    "    \n",
    "    rates = [\n",
    "        (1e-4, 2),\n",
    "        (1e-3, 4)\n",
    "    ]\n",
    "\n",
    "    fastai.utils.fit_generator(model, t_batches, rates, val_batches=v_batches, callbacks=callbacks)\n",
    "    \n",
    "#     model.optimizer.lr.set_value(1e-4)\n",
    "#     h = model.fit_generator(\n",
    "#         t_batches, \n",
    "#         t_batches.nb_sample, \n",
    "#         nb_epoch=2, \n",
    "#         validation_data=v_batches, \n",
    "#         nb_val_samples=v_batches.nb_sample\n",
    "#     )\n",
    "\n",
    "#     model.optimizer.lr.set_value(1e-3)\n",
    "#     h = model.fit_generator(\n",
    "#         t_batches, \n",
    "#         t_batches.nb_sample, \n",
    "#         nb_epoch=4, \n",
    "#         validation_data=v_batches, \n",
    "#         nb_val_samples=v_batches.nb_sample\n",
    "#     )\n",
    "    \n",
    "    return model"
   ]
  },
  {
   "cell_type": "code",
   "execution_count": 19,
   "metadata": {},
   "outputs": [
    {
     "name": "stdout",
     "output_type": "stream",
     "text": [
      "Learning rate: 0.0001\n",
      "Epoch 1/6\n",
      "23/23 [==============================] - 21s - loss: 1.5129 - acc: 0.5525 - val_loss: 2.6520 - val_acc: 0.2667\n",
      "Epoch 2/6\n",
      "23/23 [==============================] - 19s - loss: 0.3996 - acc: 0.9160 - val_loss: 1.8672 - val_acc: 0.3842\n",
      "Learning rate: 0.001\n",
      "Epoch 3/6\n",
      "23/23 [==============================] - 19s - loss: 0.2459 - acc: 0.9390 - val_loss: 1.2706 - val_acc: 0.6021\n",
      "Epoch 4/6\n",
      "23/23 [==============================] - 19s - loss: 0.1049 - acc: 0.9810 - val_loss: 1.5278 - val_acc: 0.5023\n",
      "Epoch 5/6\n",
      "23/23 [==============================] - 19s - loss: 0.0279 - acc: 0.9966 - val_loss: 1.9250 - val_acc: 0.3612\n",
      "Epoch 6/6\n",
      "23/23 [==============================] - 19s - loss: 0.0068 - acc: 0.9993 - val_loss: 1.9116 - val_acc: 0.4094\n"
     ]
    }
   ],
   "source": [
    "cm = get_conv_model()\n",
    "# cm.summary()"
   ]
  },
  {
   "cell_type": "markdown",
   "metadata": {},
   "source": [
    "Very rapidly learning the training data and failing to generalize to the validation dataset."
   ]
  },
  {
   "cell_type": "markdown",
   "metadata": {},
   "source": [
    "# data augmentation"
   ]
  },
  {
   "cell_type": "code",
   "execution_count": 20,
   "metadata": {},
   "outputs": [
    {
     "name": "stdout",
     "output_type": "stream",
     "text": [
      "######### 0 #########\n",
      "Found 1500 images belonging to 10 classes.\n",
      "Learning rate: 0.0001\n",
      "Epoch 1/6\n",
      "23/23 [==============================] - 19s - loss: 1.4985 - acc: 0.5455 - val_loss: 3.4949 - val_acc: 0.2385\n",
      "Epoch 2/6\n",
      "23/23 [==============================] - 19s - loss: 0.4131 - acc: 0.9029 - val_loss: 1.7394 - val_acc: 0.3672\n",
      "Learning rate: 0.001\n",
      "Epoch 3/6\n",
      "23/23 [==============================] - 19s - loss: 0.3944 - acc: 0.9001 - val_loss: 1.3300 - val_acc: 0.4977\n",
      "Epoch 4/6\n",
      "23/23 [==============================] - 19s - loss: 0.1146 - acc: 0.9832 - val_loss: 1.9021 - val_acc: 0.2661\n",
      "Epoch 5/6\n",
      "23/23 [==============================] - 19s - loss: 0.0221 - acc: 1.0000 - val_loss: 1.8942 - val_acc: 0.3440\n",
      "Epoch 6/6\n",
      "23/23 [==============================] - 19s - loss: 0.0095 - acc: 1.0000 - val_loss: 2.3486 - val_acc: 0.1101\n",
      "######### 0.05 #########\n",
      "Found 1500 images belonging to 10 classes.\n",
      "Learning rate: 0.0001\n",
      "Epoch 1/6\n",
      "23/23 [==============================] - 22s - loss: 1.8815 - acc: 0.4130 - val_loss: 3.8415 - val_acc: 0.1892\n",
      "Epoch 2/6\n",
      "23/23 [==============================] - 19s - loss: 0.9077 - acc: 0.7404 - val_loss: 1.9578 - val_acc: 0.2993\n",
      "Learning rate: 0.001\n",
      "Epoch 3/6\n",
      "23/23 [==============================] - 19s - loss: 0.8386 - acc: 0.7473 - val_loss: 1.5824 - val_acc: 0.5103\n",
      "Epoch 4/6\n",
      "23/23 [==============================] - 19s - loss: 0.4135 - acc: 0.8855 - val_loss: 1.5534 - val_acc: 0.3750\n",
      "Epoch 5/6\n",
      "23/23 [==============================] - 19s - loss: 0.2156 - acc: 0.9492 - val_loss: 1.4918 - val_acc: 0.5367\n",
      "Epoch 6/6\n",
      "23/23 [==============================] - 19s - loss: 0.1615 - acc: 0.9596 - val_loss: 1.5180 - val_acc: 0.5390\n",
      "######### 0.1 #########\n",
      "Found 1500 images belonging to 10 classes.\n",
      "Learning rate: 0.0001\n",
      "Epoch 1/6\n",
      "23/23 [==============================] - 22s - loss: 2.1304 - acc: 0.3648 - val_loss: 2.2755 - val_acc: 0.2936\n",
      "Epoch 2/6\n",
      "23/23 [==============================] - 19s - loss: 1.1966 - acc: 0.6062 - val_loss: 1.8267 - val_acc: 0.2374\n",
      "Learning rate: 0.001\n",
      "Epoch 3/6\n",
      "23/23 [==============================] - 19s - loss: 1.1845 - acc: 0.6298 - val_loss: 1.5985 - val_acc: 0.4209\n",
      "Epoch 4/6\n",
      "23/23 [==============================] - 19s - loss: 0.7443 - acc: 0.7626 - val_loss: 1.3546 - val_acc: 0.6078\n",
      "Epoch 5/6\n",
      "23/23 [==============================] - 19s - loss: 0.4456 - acc: 0.8734 - val_loss: 1.4774 - val_acc: 0.4954\n",
      "Epoch 6/6\n",
      "23/23 [==============================] - 19s - loss: 0.3512 - acc: 0.9043 - val_loss: 1.4975 - val_acc: 0.4531\n",
      "######### 0.15 #########\n",
      "Found 1500 images belonging to 10 classes.\n",
      "Learning rate: 0.0001\n",
      "Epoch 1/6\n",
      "23/23 [==============================] - 22s - loss: 2.2811 - acc: 0.3023 - val_loss: 2.9267 - val_acc: 0.2557\n",
      "Epoch 2/6\n",
      "23/23 [==============================] - 19s - loss: 1.4569 - acc: 0.5245 - val_loss: 2.0633 - val_acc: 0.2752\n",
      "Learning rate: 0.001\n",
      "Epoch 3/6\n",
      "23/23 [==============================] - 19s - loss: 1.5214 - acc: 0.5134 - val_loss: 1.5901 - val_acc: 0.5161\n",
      "Epoch 4/6\n",
      "23/23 [==============================] - 19s - loss: 0.9444 - acc: 0.7153 - val_loss: 1.7484 - val_acc: 0.4243\n",
      "Epoch 5/6\n",
      "23/23 [==============================] - 19s - loss: 0.7016 - acc: 0.7804 - val_loss: 1.7506 - val_acc: 0.4495\n",
      "Epoch 6/6\n",
      "23/23 [==============================] - 19s - loss: 0.5216 - acc: 0.8535 - val_loss: 1.8269 - val_acc: 0.2798\n"
     ]
    }
   ],
   "source": [
    "for width in [0, 0.05, 0.1, 0.15]:\n",
    "\n",
    "    print('#########', width, '#########')\n",
    "    gen_t = image.ImageDataGenerator(width_shift_range=width)\n",
    "    batches = get_batches(data_path+'train', gen_t, batch_size=batch_size)\n",
    "\n",
    "    model = get_conv_model(batches)"
   ]
  },
  {
   "cell_type": "code",
   "execution_count": 21,
   "metadata": {},
   "outputs": [
    {
     "name": "stdout",
     "output_type": "stream",
     "text": [
      "######### 0 #########\n",
      "Found 1500 images belonging to 10 classes.\n",
      "Learning rate: 0.0001\n",
      "Epoch 1/6\n",
      "23/23 [==============================] - 19s - loss: 1.5502 - acc: 0.5367 - val_loss: 2.2480 - val_acc: 0.3062\n",
      "Epoch 2/6\n",
      "23/23 [==============================] - 19s - loss: 0.4149 - acc: 0.9132 - val_loss: 1.8061 - val_acc: 0.3225\n",
      "Learning rate: 0.001\n",
      "Epoch 3/6\n",
      "23/23 [==============================] - 19s - loss: 0.3653 - acc: 0.9093 - val_loss: 1.8317 - val_acc: 0.3440\n",
      "Epoch 4/6\n",
      "23/23 [==============================] - 19s - loss: 0.1074 - acc: 0.9797 - val_loss: 1.3539 - val_acc: 0.6651\n",
      "Epoch 5/6\n",
      "23/23 [==============================] - 19s - loss: 0.0258 - acc: 0.9986 - val_loss: 1.7495 - val_acc: 0.3658\n",
      "Epoch 6/6\n",
      "23/23 [==============================] - 19s - loss: 0.0087 - acc: 1.0000 - val_loss: 1.8804 - val_acc: 0.3177\n",
      "######### 0.05 #########\n",
      "Found 1500 images belonging to 10 classes.\n",
      "Learning rate: 0.0001\n",
      "Epoch 1/6\n",
      "23/23 [==============================] - 22s - loss: 1.8352 - acc: 0.4368 - val_loss: 3.5124 - val_acc: 0.2511\n",
      "Epoch 2/6\n",
      "23/23 [==============================] - 19s - loss: 0.8557 - acc: 0.7422 - val_loss: 1.7973 - val_acc: 0.4404\n",
      "Learning rate: 0.001\n",
      "Epoch 3/6\n",
      "23/23 [==============================] - 19s - loss: 0.9630 - acc: 0.7094 - val_loss: 1.3478 - val_acc: 0.6009\n",
      "Epoch 4/6\n",
      "23/23 [==============================] - 19s - loss: 0.4246 - acc: 0.8867 - val_loss: 1.5596 - val_acc: 0.3337\n",
      "Epoch 5/6\n",
      "23/23 [==============================] - 19s - loss: 0.2422 - acc: 0.9331 - val_loss: 1.4122 - val_acc: 0.4622\n",
      "Epoch 6/6\n",
      "23/23 [==============================] - 19s - loss: 0.1614 - acc: 0.9548 - val_loss: 2.1035 - val_acc: 0.1904\n",
      "######### 0.1 #########\n",
      "Found 1500 images belonging to 10 classes.\n",
      "Learning rate: 0.0001\n",
      "Epoch 1/6\n",
      "23/23 [==============================] - 22s - loss: 2.1447 - acc: 0.3281 - val_loss: 2.1937 - val_acc: 0.2867\n",
      "Epoch 2/6\n",
      "23/23 [==============================] - 19s - loss: 1.2769 - acc: 0.5904 - val_loss: 1.8069 - val_acc: 0.3280\n",
      "Learning rate: 0.001\n",
      "Epoch 3/6\n",
      "23/23 [==============================] - 19s - loss: 1.1702 - acc: 0.6186 - val_loss: 1.6516 - val_acc: 0.3509\n",
      "Epoch 4/6\n",
      "23/23 [==============================] - 19s - loss: 0.6948 - acc: 0.7977 - val_loss: 1.5814 - val_acc: 0.4220\n",
      "Epoch 5/6\n",
      "23/23 [==============================] - 19s - loss: 0.4059 - acc: 0.8841 - val_loss: 1.5987 - val_acc: 0.3475\n",
      "Epoch 6/6\n",
      "23/23 [==============================] - 19s - loss: 0.3269 - acc: 0.9062 - val_loss: 1.8104 - val_acc: 0.2824\n",
      "######### 0.15 #########\n",
      "Found 1500 images belonging to 10 classes.\n",
      "Learning rate: 0.0001\n",
      "Epoch 1/6\n",
      "23/23 [==============================] - 22s - loss: 2.2714 - acc: 0.2921 - val_loss: 3.6616 - val_acc: 0.2053\n",
      "Epoch 2/6\n",
      "23/23 [==============================] - 19s - loss: 1.5286 - acc: 0.4946 - val_loss: 2.2152 - val_acc: 0.2810\n",
      "Learning rate: 0.001\n",
      "Epoch 3/6\n",
      "23/23 [==============================] - 19s - loss: 1.4451 - acc: 0.5328 - val_loss: 1.3556 - val_acc: 0.5126\n",
      "Epoch 4/6\n",
      "23/23 [==============================] - 19s - loss: 0.9713 - acc: 0.7006 - val_loss: 1.5768 - val_acc: 0.5275\n",
      "Epoch 5/6\n",
      "23/23 [==============================] - 19s - loss: 0.7006 - acc: 0.7813 - val_loss: 1.3429 - val_acc: 0.5573\n",
      "Epoch 6/6\n",
      "23/23 [==============================] - 19s - loss: 0.5203 - acc: 0.8445 - val_loss: 1.6352 - val_acc: 0.4644\n"
     ]
    }
   ],
   "source": [
    "for height in [0, 0.05, 0.1, 0.15]:\n",
    "\n",
    "    print('#########', height, '#########')\n",
    "    gen_t = image.ImageDataGenerator(height_shift_range=height)\n",
    "    batches = get_batches(data_path+'train', gen_t, batch_size=batch_size)\n",
    "\n",
    "    model = get_conv_model(batches)"
   ]
  },
  {
   "cell_type": "code",
   "execution_count": 22,
   "metadata": {},
   "outputs": [
    {
     "name": "stdout",
     "output_type": "stream",
     "text": [
      "######### 0 #########\n",
      "Found 1500 images belonging to 10 classes.\n",
      "Learning rate: 0.0001\n",
      "Epoch 1/6\n",
      "23/23 [==============================] - 19s - loss: 1.5558 - acc: 0.5238 - val_loss: 2.9720 - val_acc: 0.2683\n",
      "Epoch 2/6\n",
      "23/23 [==============================] - 19s - loss: 0.3835 - acc: 0.9207 - val_loss: 2.1068 - val_acc: 0.2351\n",
      "Learning rate: 0.001\n",
      "Epoch 3/6\n",
      "23/23 [==============================] - 19s - loss: 0.4006 - acc: 0.8992 - val_loss: 1.4293 - val_acc: 0.4922\n",
      "Epoch 4/6\n",
      "23/23 [==============================] - 19s - loss: 0.0893 - acc: 0.9898 - val_loss: 1.8346 - val_acc: 0.3028\n",
      "Epoch 5/6\n",
      "23/23 [==============================] - 19s - loss: 0.0251 - acc: 0.9993 - val_loss: 2.2243 - val_acc: 0.2362\n",
      "Epoch 6/6\n",
      "23/23 [==============================] - 19s - loss: 0.0086 - acc: 1.0000 - val_loss: 2.7619 - val_acc: 0.2122\n",
      "######### 0.05 #########\n",
      "Found 1500 images belonging to 10 classes.\n",
      "Learning rate: 0.0001\n",
      "Epoch 1/6\n",
      "23/23 [==============================] - 21s - loss: 1.6510 - acc: 0.5048 - val_loss: 1.9761 - val_acc: 0.3211\n",
      "Epoch 2/6\n",
      "23/23 [==============================] - 19s - loss: 0.4273 - acc: 0.9069 - val_loss: 1.8414 - val_acc: 0.3257\n",
      "Learning rate: 0.001\n",
      "Epoch 3/6\n",
      "23/23 [==============================] - 19s - loss: 0.3140 - acc: 0.9125 - val_loss: 1.3224 - val_acc: 0.5310\n",
      "Epoch 4/6\n",
      "23/23 [==============================] - 19s - loss: 0.1045 - acc: 0.9782 - val_loss: 1.4261 - val_acc: 0.5367\n",
      "Epoch 5/6\n",
      "23/23 [==============================] - 19s - loss: 0.0456 - acc: 0.9924 - val_loss: 1.9177 - val_acc: 0.3761\n",
      "Epoch 6/6\n",
      "23/23 [==============================] - 19s - loss: 0.0188 - acc: 0.9980 - val_loss: 1.9651 - val_acc: 0.3406\n",
      "######### 0.1 #########\n",
      "Found 1500 images belonging to 10 classes.\n",
      "Learning rate: 0.0001\n",
      "Epoch 1/6\n",
      "23/23 [==============================] - 21s - loss: 1.6153 - acc: 0.4946 - val_loss: 2.7502 - val_acc: 0.2213\n",
      "Epoch 2/6\n",
      "23/23 [==============================] - 19s - loss: 0.5164 - acc: 0.8807 - val_loss: 1.4400 - val_acc: 0.3830\n",
      "Learning rate: 0.001\n",
      "Epoch 3/6\n",
      "23/23 [==============================] - 19s - loss: 0.6038 - acc: 0.8164 - val_loss: 1.4148 - val_acc: 0.5046\n",
      "Epoch 4/6\n",
      "23/23 [==============================] - 19s - loss: 0.1809 - acc: 0.9614 - val_loss: 1.5059 - val_acc: 0.4599\n",
      "Epoch 5/6\n",
      "23/23 [==============================] - 19s - loss: 0.0582 - acc: 0.9925 - val_loss: 1.7089 - val_acc: 0.3876\n",
      "Epoch 6/6\n",
      "23/23 [==============================] - 19s - loss: 0.0237 - acc: 0.9986 - val_loss: 2.0042 - val_acc: 0.3257\n",
      "######### 0.15 #########\n",
      "Found 1500 images belonging to 10 classes.\n",
      "Learning rate: 0.0001\n",
      "Epoch 1/6\n",
      "23/23 [==============================] - 21s - loss: 1.7592 - acc: 0.4626 - val_loss: 1.8317 - val_acc: 0.3658\n",
      "Epoch 2/6\n",
      "23/23 [==============================] - 19s - loss: 0.6350 - acc: 0.8246 - val_loss: 1.7065 - val_acc: 0.3716\n",
      "Learning rate: 0.001\n",
      "Epoch 3/6\n",
      "23/23 [==============================] - 19s - loss: 0.5800 - acc: 0.8188 - val_loss: 1.2999 - val_acc: 0.5333\n",
      "Epoch 4/6\n",
      "23/23 [==============================] - 19s - loss: 0.1961 - acc: 0.9540 - val_loss: 1.5455 - val_acc: 0.4771\n",
      "Epoch 5/6\n",
      "23/23 [==============================] - 19s - loss: 0.0996 - acc: 0.9760 - val_loss: 1.7259 - val_acc: 0.4197\n",
      "Epoch 6/6\n",
      "23/23 [==============================] - 19s - loss: 0.0442 - acc: 0.9946 - val_loss: 2.0460 - val_acc: 0.3062\n"
     ]
    }
   ],
   "source": [
    "for shear in [0, 0.05, 0.1, 0.15]:\n",
    "\n",
    "    print('#########', shear, '#########')\n",
    "    gen_t = image.ImageDataGenerator(shear_range=shear)\n",
    "    batches = get_batches(data_path+'train', gen_t, batch_size=batch_size)\n",
    "\n",
    "    model = get_conv_model(batches)"
   ]
  },
  {
   "cell_type": "code",
   "execution_count": 23,
   "metadata": {},
   "outputs": [
    {
     "name": "stdout",
     "output_type": "stream",
     "text": [
      "######### 0 #########\n",
      "Found 1500 images belonging to 10 classes.\n",
      "Learning rate: 0.0001\n",
      "Epoch 1/6\n",
      "23/23 [==============================] - 19s - loss: 1.5521 - acc: 0.5353 - val_loss: 3.1117 - val_acc: 0.2294\n",
      "Epoch 2/6\n",
      "23/23 [==============================] - 19s - loss: 0.4239 - acc: 0.9224 - val_loss: 1.8095 - val_acc: 0.3383\n",
      "Learning rate: 0.001\n",
      "Epoch 3/6\n",
      "23/23 [==============================] - 19s - loss: 0.3859 - acc: 0.9084 - val_loss: 1.4298 - val_acc: 0.4862\n",
      "Epoch 4/6\n",
      "23/23 [==============================] - 19s - loss: 0.0999 - acc: 0.9859 - val_loss: 1.4383 - val_acc: 0.5493\n",
      "Epoch 5/6\n",
      "23/23 [==============================] - 19s - loss: 0.0285 - acc: 0.9986 - val_loss: 1.9163 - val_acc: 0.2936\n",
      "Epoch 6/6\n",
      "23/23 [==============================] - 19s - loss: 0.0117 - acc: 0.9993 - val_loss: 2.0671 - val_acc: 0.2557\n",
      "######### 10 #########\n",
      "Found 1500 images belonging to 10 classes.\n",
      "Learning rate: 0.0001\n",
      "Epoch 1/6\n",
      "23/23 [==============================] - 21s - loss: 1.8915 - acc: 0.4124 - val_loss: 2.7095 - val_acc: 0.3096\n",
      "Epoch 2/6\n",
      "23/23 [==============================] - 19s - loss: 0.8358 - acc: 0.7614 - val_loss: 1.5283 - val_acc: 0.4094\n",
      "Learning rate: 0.001\n",
      "Epoch 3/6\n",
      "23/23 [==============================] - 19s - loss: 0.8909 - acc: 0.7313 - val_loss: 1.4111 - val_acc: 0.5803\n",
      "Epoch 4/6\n",
      "23/23 [==============================] - 19s - loss: 0.4275 - acc: 0.8841 - val_loss: 1.3982 - val_acc: 0.4702\n",
      "Epoch 5/6\n",
      "23/23 [==============================] - 20s - loss: 0.2106 - acc: 0.9509 - val_loss: 1.5582 - val_acc: 0.4232\n",
      "Epoch 6/6\n",
      "23/23 [==============================] - 19s - loss: 0.1122 - acc: 0.9735 - val_loss: 1.4605 - val_acc: 0.4851\n",
      "######### 20 #########\n",
      "Found 1500 images belonging to 10 classes.\n",
      "Learning rate: 0.0001\n",
      "Epoch 1/6\n",
      "23/23 [==============================] - 21s - loss: 2.1978 - acc: 0.3043 - val_loss: 1.9853 - val_acc: 0.2936\n",
      "Epoch 2/6\n",
      "23/23 [==============================] - 19s - loss: 1.2459 - acc: 0.6043 - val_loss: 1.8202 - val_acc: 0.3268\n",
      "Learning rate: 0.001\n",
      "Epoch 3/6\n",
      "23/23 [==============================] - 19s - loss: 1.2278 - acc: 0.6124 - val_loss: 1.1887 - val_acc: 0.5975\n",
      "Epoch 4/6\n",
      "23/23 [==============================] - 19s - loss: 0.7258 - acc: 0.7864 - val_loss: 1.1834 - val_acc: 0.6583\n",
      "Epoch 5/6\n",
      "23/23 [==============================] - 19s - loss: 0.4578 - acc: 0.8674 - val_loss: 1.1807 - val_acc: 0.6755\n",
      "Epoch 6/6\n",
      "23/23 [==============================] - 19s - loss: 0.2967 - acc: 0.9172 - val_loss: 1.1430 - val_acc: 0.6743\n",
      "######### 30 #########\n",
      "Found 1500 images belonging to 10 classes.\n",
      "Learning rate: 0.0001\n",
      "Epoch 1/6\n",
      "23/23 [==============================] - 22s - loss: 2.2641 - acc: 0.2908 - val_loss: 2.3023 - val_acc: 0.2500\n",
      "Epoch 2/6\n",
      "23/23 [==============================] - 19s - loss: 1.4976 - acc: 0.5165 - val_loss: 1.7104 - val_acc: 0.3050\n",
      "Learning rate: 0.001\n",
      "Epoch 3/6\n",
      "23/23 [==============================] - 19s - loss: 1.4003 - acc: 0.5546 - val_loss: 1.2777 - val_acc: 0.5677\n",
      "Epoch 4/6\n",
      "23/23 [==============================] - 19s - loss: 0.9396 - acc: 0.7028 - val_loss: 1.4599 - val_acc: 0.5356\n",
      "Epoch 5/6\n",
      "23/23 [==============================] - 19s - loss: 0.5987 - acc: 0.8200 - val_loss: 1.4921 - val_acc: 0.4713\n",
      "Epoch 6/6\n",
      "23/23 [==============================] - 19s - loss: 0.4873 - acc: 0.8494 - val_loss: 1.5957 - val_acc: 0.4232\n"
     ]
    }
   ],
   "source": [
    "for rot in [0, 10, 20, 30]:\n",
    "\n",
    "    print('#########', rot, '#########')\n",
    "    gen_t = image.ImageDataGenerator(rotation_range=rot)\n",
    "    batches = get_batches(data_path+'train', gen_t, batch_size=batch_size)\n",
    "\n",
    "    model = get_conv_model(batches)"
   ]
  },
  {
   "cell_type": "code",
   "execution_count": 24,
   "metadata": {},
   "outputs": [
    {
     "name": "stdout",
     "output_type": "stream",
     "text": [
      "######### 0 #########\n",
      "Found 1500 images belonging to 10 classes.\n",
      "Learning rate: 0.0001\n",
      "Epoch 1/6\n",
      "23/23 [==============================] - 19s - loss: 1.6964 - acc: 0.4925 - val_loss: 2.3370 - val_acc: 0.2546\n",
      "Epoch 2/6\n",
      "23/23 [==============================] - 19s - loss: 0.5138 - acc: 0.8861 - val_loss: 1.5645 - val_acc: 0.4335\n",
      "Learning rate: 0.001\n",
      "Epoch 3/6\n",
      "23/23 [==============================] - 19s - loss: 0.3788 - acc: 0.8974 - val_loss: 1.5985 - val_acc: 0.4656\n",
      "Epoch 4/6\n",
      "23/23 [==============================] - 19s - loss: 0.0920 - acc: 0.9876 - val_loss: 2.0048 - val_acc: 0.3177\n",
      "Epoch 5/6\n",
      "23/23 [==============================] - 19s - loss: 0.0213 - acc: 1.0000 - val_loss: 2.3410 - val_acc: 0.2615\n",
      "Epoch 6/6\n",
      "23/23 [==============================] - 19s - loss: 0.0079 - acc: 1.0000 - val_loss: 2.5653 - val_acc: 0.2294\n",
      "######### 10 #########\n",
      "Found 1500 images belonging to 10 classes.\n",
      "Learning rate: 0.0001\n",
      "Epoch 1/6\n",
      "23/23 [==============================] - 22s - loss: 1.6602 - acc: 0.5000 - val_loss: 2.6449 - val_acc: 0.2202\n",
      "Epoch 2/6\n",
      "23/23 [==============================] - 19s - loss: 0.4918 - acc: 0.8871 - val_loss: 1.5228 - val_acc: 0.3796\n",
      "Learning rate: 0.001\n",
      "Epoch 3/6\n",
      "23/23 [==============================] - 19s - loss: 0.4079 - acc: 0.8940 - val_loss: 1.1663 - val_acc: 0.6904\n",
      "Epoch 4/6\n",
      "23/23 [==============================] - 19s - loss: 0.0848 - acc: 0.9932 - val_loss: 1.2833 - val_acc: 0.6514\n",
      "Epoch 5/6\n",
      "23/23 [==============================] - 19s - loss: 0.0284 - acc: 0.9951 - val_loss: 1.2825 - val_acc: 0.6468\n",
      "Epoch 6/6\n",
      "23/23 [==============================] - 19s - loss: 0.0134 - acc: 0.9993 - val_loss: 1.4038 - val_acc: 0.6089\n",
      "######### 20 #########\n",
      "Found 1500 images belonging to 10 classes.\n",
      "Learning rate: 0.0001\n",
      "Epoch 1/6\n",
      "23/23 [==============================] - 20s - loss: 1.6584 - acc: 0.4803 - val_loss: 2.8378 - val_acc: 0.2064\n",
      "Epoch 2/6\n",
      "23/23 [==============================] - 19s - loss: 0.5146 - acc: 0.8721 - val_loss: 1.7470 - val_acc: 0.3532\n",
      "Learning rate: 0.001\n",
      "Epoch 3/6\n",
      "23/23 [==============================] - 19s - loss: 0.4117 - acc: 0.8931 - val_loss: 1.4454 - val_acc: 0.4530\n",
      "Epoch 4/6\n",
      "23/23 [==============================] - 19s - loss: 0.1206 - acc: 0.9782 - val_loss: 1.2756 - val_acc: 0.6124\n",
      "Epoch 5/6\n",
      "23/23 [==============================] - 19s - loss: 0.0265 - acc: 0.9986 - val_loss: 1.4128 - val_acc: 0.5826\n",
      "Epoch 6/6\n",
      "23/23 [==============================] - 20s - loss: 0.0096 - acc: 1.0000 - val_loss: 1.5134 - val_acc: 0.4862\n",
      "######### 30 #########\n",
      "Found 1500 images belonging to 10 classes.\n",
      "Learning rate: 0.0001\n",
      "Epoch 1/6\n",
      "23/23 [==============================] - 20s - loss: 1.6898 - acc: 0.4864 - val_loss: 2.6003 - val_acc: 0.2259\n",
      "Epoch 2/6\n",
      "23/23 [==============================] - 20s - loss: 0.5056 - acc: 0.8728 - val_loss: 1.8436 - val_acc: 0.2592\n",
      "Learning rate: 0.001\n",
      "Epoch 3/6\n",
      "23/23 [==============================] - 19s - loss: 0.5105 - acc: 0.8613 - val_loss: 1.4554 - val_acc: 0.4232\n",
      "Epoch 4/6\n",
      "23/23 [==============================] - 19s - loss: 0.1462 - acc: 0.9738 - val_loss: 1.3559 - val_acc: 0.5792\n",
      "Epoch 5/6\n",
      "23/23 [==============================] - 19s - loss: 0.0340 - acc: 0.9986 - val_loss: 1.4216 - val_acc: 0.5677\n",
      "Epoch 6/6\n",
      "23/23 [==============================] - 19s - loss: 0.0138 - acc: 1.0000 - val_loss: 1.5338 - val_acc: 0.5252\n"
     ]
    }
   ],
   "source": [
    "for chan in [0, 10, 20, 30]:\n",
    "\n",
    "    print('#########', chan, '#########')\n",
    "    gen_t = image.ImageDataGenerator(channel_shift_range=chan)\n",
    "    batches = get_batches(data_path+'train', gen_t, batch_size=batch_size)\n",
    "\n",
    "    model = get_conv_model(batches)"
   ]
  },
  {
   "cell_type": "markdown",
   "metadata": {},
   "source": [
    "# all together"
   ]
  },
  {
   "cell_type": "code",
   "execution_count": null,
   "metadata": {},
   "outputs": [
    {
     "name": "stdout",
     "output_type": "stream",
     "text": [
      "Found 1500 images belonging to 10 classes.\n",
      "Learning rate: 0.0001\n",
      "Epoch 1/6\n",
      "23/23 [==============================] - 22s - loss: 2.5926 - acc: 0.2052 - val_loss: 3.2549 - val_acc: 0.1628\n",
      "Epoch 2/6\n",
      "23/23 [==============================] - 19s - loss: 2.0610 - acc: 0.3122 - val_loss: 2.3277 - val_acc: 0.2374\n",
      "Learning rate: 0.001\n",
      "Epoch 3/6\n",
      "23/23 [==============================] - 19s - loss: 2.0682 - acc: 0.3254 - val_loss: 2.3664 - val_acc: 0.2718\n",
      "Epoch 4/6\n",
      "23/23 [==============================] - 19s - loss: 1.6780 - acc: 0.4244 - val_loss: 1.5182 - val_acc: 0.5011\n",
      "Epoch 5/6\n",
      "23/23 [==============================] - 19s - loss: 1.4655 - acc: 0.5029 - val_loss: 1.5097 - val_acc: 0.4381\n",
      "Epoch 6/6\n",
      "23/23 [==============================] - 19s - loss: 1.3549 - acc: 0.5413 - val_loss: 1.4541 - val_acc: 0.5356\n"
     ]
    }
   ],
   "source": [
    "# gen_t = image.ImageDataGenerator(\n",
    "#     width_shift_range=0.1,\n",
    "#     height_shift_range=0.05,\n",
    "#     shear_range=0.1,\n",
    "#     rotation_range=15,\n",
    "#     channel_shift_range=20\n",
    "# )\n",
    "gen_t = image.ImageDataGenerator(\n",
    "    width_shift_range=0.05,\n",
    "    height_shift_range=0.15,\n",
    "    shear_range=0.15,\n",
    "    rotation_range=15,\n",
    "    channel_shift_range=30\n",
    ")\n",
    "\n",
    "batches = get_batches(data_path + 'train', gen_t, batch_size=batch_size)\n",
    "\n",
    "model = get_conv_model(batches)"
   ]
  },
  {
   "cell_type": "code",
   "execution_count": null,
   "metadata": {},
   "outputs": [
    {
     "name": "stdout",
     "output_type": "stream",
     "text": [
      "Learning rate: 0.0001\n",
      "Epoch 1/30\n",
      "23/23 [==============================] - 22s - loss: 1.2506 - acc: 0.5964 - val_loss: 1.4146 - val_acc: 0.5780\n",
      "Epoch 2/30\n",
      "23/23 [==============================] - 19s - loss: 1.1565 - acc: 0.6268 - val_loss: 1.3710 - val_acc: 0.5917\n",
      "Epoch 3/30\n",
      "23/23 [==============================] - 19s - loss: 1.1129 - acc: 0.6400 - val_loss: 1.3345 - val_acc: 0.6101\n",
      "Epoch 4/30\n",
      "23/23 [==============================] - 19s - loss: 1.1344 - acc: 0.6382 - val_loss: 1.2859 - val_acc: 0.6330\n",
      "Epoch 5/30\n",
      "23/23 [==============================] - 20s - loss: 1.0571 - acc: 0.6671 - val_loss: 1.2316 - val_acc: 0.6606\n",
      "Epoch 6/30\n",
      "23/23 [==============================] - 19s - loss: 1.0520 - acc: 0.6577 - val_loss: 1.1992 - val_acc: 0.6881\n",
      "Epoch 7/30\n",
      "23/23 [==============================] - 19s - loss: 0.9583 - acc: 0.6980 - val_loss: 1.2256 - val_acc: 0.6170\n",
      "Epoch 8/30\n",
      "23/23 [==============================] - 19s - loss: 0.9466 - acc: 0.6999 - val_loss: 1.1775 - val_acc: 0.5906\n",
      "Epoch 9/30\n",
      "23/23 [==============================] - 19s - loss: 0.9170 - acc: 0.7134 - val_loss: 1.1593 - val_acc: 0.5894\n",
      "Epoch 10/30\n",
      "23/23 [==============================] - 19s - loss: 0.8912 - acc: 0.7186 - val_loss: 1.0670 - val_acc: 0.6537\n",
      "Epoch 11/30\n",
      "23/23 [==============================] - 19s - loss: 0.8701 - acc: 0.7282 - val_loss: 1.0697 - val_acc: 0.6399\n",
      "Epoch 12/30\n",
      "23/23 [==============================] - 19s - loss: 0.8911 - acc: 0.7146 - val_loss: 1.0268 - val_acc: 0.6560\n",
      "Learning rate: 1e-05\n",
      "Epoch 13/30\n",
      "23/23 [==============================] - 19s - loss: 0.8206 - acc: 0.7340 - val_loss: 1.0076 - val_acc: 0.6537\n",
      "Epoch 14/30\n",
      "23/23 [==============================] - 19s - loss: 0.8222 - acc: 0.7472 - val_loss: 0.9909 - val_acc: 0.6571\n",
      "Epoch 15/30\n",
      "23/23 [==============================] - 20s - loss: 0.8174 - acc: 0.7469 - val_loss: 0.9788 - val_acc: 0.6651\n",
      "Epoch 16/30\n",
      "23/23 [==============================] - 23s - loss: 0.8281 - acc: 0.7412 - val_loss: 0.9538 - val_acc: 0.6674\n",
      "Epoch 17/30\n",
      "23/23 [==============================] - 19s - loss: 0.8252 - acc: 0.7328 - val_loss: 0.9430 - val_acc: 0.6732\n",
      "Epoch 18/30\n",
      "23/23 [==============================] - 19s - loss: 0.8209 - acc: 0.7476 - val_loss: 0.9475 - val_acc: 0.6709\n",
      "Epoch 19/30\n",
      "23/23 [==============================] - 19s - loss: 0.7909 - acc: 0.7434 - val_loss: 0.9444 - val_acc: 0.6755\n",
      "Epoch 20/30\n",
      "23/23 [==============================] - 19s - loss: 0.7956 - acc: 0.7452 - val_loss: 0.9497 - val_acc: 0.6686\n",
      "Epoch 21/30\n",
      "23/23 [==============================] - 19s - loss: 0.7828 - acc: 0.7660 - val_loss: 0.9420 - val_acc: 0.6686\n",
      "Epoch 22/30\n",
      "23/23 [==============================] - 19s - loss: 0.7917 - acc: 0.7602 - val_loss: 0.9474 - val_acc: 0.6606\n",
      "Epoch 23/30\n",
      "23/23 [==============================] - 20s - loss: 0.7555 - acc: 0.7673 - val_loss: 0.9502 - val_acc: 0.6560\n",
      "Epoch 24/30\n",
      "23/23 [==============================] - 19s - loss: 0.7670 - acc: 0.7597 - val_loss: 0.9633 - val_acc: 0.6514\n",
      "Epoch 25/30\n",
      "23/23 [==============================] - 19s - loss: 0.7523 - acc: 0.7694 - val_loss: 0.9686 - val_acc: 0.6445\n",
      "Epoch 26/30\n",
      "23/23 [==============================] - 19s - loss: 0.7745 - acc: 0.7661 - val_loss: 0.9680 - val_acc: 0.6560\n",
      "Epoch 27/30\n",
      "23/23 [==============================] - 19s - loss: 0.7512 - acc: 0.7695 - val_loss: 0.9592 - val_acc: 0.6617\n",
      "Epoch 28/30\n",
      "23/23 [==============================] - 19s - loss: 0.7990 - acc: 0.7417 - val_loss: 0.9482 - val_acc: 0.6686\n",
      "Epoch 29/30\n",
      "10/23 [============>.................] - ETA: 7s - loss: 0.7364 - acc: 0.7609"
     ]
    }
   ],
   "source": [
    "rates = [\n",
    "    (1e-4, 12),\n",
    "    (1e-5, 18),\n",
    "]\n",
    "\n",
    "fastai.utils.fit_generator(model, batches, rates, val_batches=v_batches, callbacks=callbacks)\n",
    "\n",
    "# model.optimizer.lr.set_value(0.0001)\n",
    "# model.fit_generator(\n",
    "#     batches, batches.nb_sample, \n",
    "#     nb_epoch=5, \n",
    "#     validation_data=v_batches, nb_val_samples=v_batches.nb_sample)\n",
    "# model.fit_generator(\n",
    "#     batches, batches.nb_sample, \n",
    "#     nb_epoch=25, \n",
    "#     validation_data=v_batches, nb_val_samples=v_batches.nb_sample)"
   ]
  },
  {
   "cell_type": "code",
   "execution_count": null,
   "metadata": {
    "collapsed": true
   },
   "outputs": [],
   "source": [
    "vf_batches = get_batches(full_data_path + 'valid', batch_size=2*batch_size, shuffle=False)\n",
    "out = model.evaluate_generator(vf_batches, vf_batches.samples//vf_batches.batch_size)\n",
    "out"
   ]
  },
  {
   "cell_type": "code",
   "execution_count": null,
   "metadata": {
    "collapsed": true
   },
   "outputs": [],
   "source": [
    "model.summary()"
   ]
  },
  {
   "cell_type": "code",
   "execution_count": null,
   "metadata": {
    "collapsed": true
   },
   "outputs": [],
   "source": [
    "model.save(data_path + 'state-farm-cnn.h5')"
   ]
  },
  {
   "cell_type": "markdown",
   "metadata": {},
   "source": [
    "# reload model"
   ]
  },
  {
   "cell_type": "markdown",
   "metadata": {},
   "source": [
    "# full training plot"
   ]
  },
  {
   "cell_type": "code",
   "execution_count": null,
   "metadata": {
    "collapsed": true
   },
   "outputs": [],
   "source": [
    "# history = []\n",
    "\n",
    "# gen_t = image.ImageDataGenerator(\n",
    "#     width_shift_range=0.1,\n",
    "#     height_shift_range=0.05,\n",
    "#     shear_range=0.1,\n",
    "#     rotation_range=15,\n",
    "#     channel_shift_range=20\n",
    "# )\n",
    "# batches = get_batches(data_path + 'train', gen_t, batch_size=batch_size)\n",
    "\n",
    "# model = get_conv_model(train=False)\n",
    "# model.optimizer.lr.set_value(1e-4)\n",
    "# h = model.fit_generator(\n",
    "#     batches, \n",
    "#     batches.nb_sample, \n",
    "#     nb_epoch=2, \n",
    "#     validation_data=v_batches, \n",
    "#     nb_val_samples=v_batches.nb_sample\n",
    "# )\n",
    "# history.append(h)\n",
    "\n",
    "# model.optimizer.lr.set_value(1e-3)\n",
    "# h = model.fit_generator(\n",
    "#     batches, \n",
    "#     batches.nb_sample, \n",
    "#     nb_epoch=4, \n",
    "#     validation_data=v_batches, \n",
    "#     nb_val_samples=v_batches.nb_sample\n",
    "# )\n",
    "# history.append(h)"
   ]
  },
  {
   "cell_type": "code",
   "execution_count": null,
   "metadata": {
    "collapsed": true
   },
   "outputs": [],
   "source": [
    "# model.optimizer.lr.set_value(0.0001)\n",
    "# h = model.fit_generator(\n",
    "#     batches, batches.nb_sample, \n",
    "#     nb_epoch=5, \n",
    "#     validation_data=v_batches, nb_val_samples=v_batches.nb_sample)\n",
    "# history.append(h)\n",
    "# h = model.fit_generator(\n",
    "#     batches, batches.nb_sample, \n",
    "#     nb_epoch=25, \n",
    "#     validation_data=v_batches, nb_val_samples=v_batches.nb_sample)\n",
    "# history.append(h)"
   ]
  },
  {
   "cell_type": "code",
   "execution_count": null,
   "metadata": {
    "collapsed": true
   },
   "outputs": [],
   "source": [
    "# acc = []\n",
    "# val_acc = []\n",
    "# for h in history:\n",
    "#     acc += h.history['acc']\n",
    "#     val_acc += h.history['val_acc']\n",
    "    \n",
    "# plt.plot(acc)\n",
    "# plt.plot(val_acc)"
   ]
  },
  {
   "cell_type": "markdown",
   "metadata": {},
   "source": [
    "# submit\n",
    "\n",
    "Compute test set output and actually submit."
   ]
  },
  {
   "cell_type": "code",
   "execution_count": null,
   "metadata": {
    "collapsed": true
   },
   "outputs": [],
   "source": [
    "from fastai import kaggle\n",
    "\n",
    "def submission_df(preds, test_batches, classes):\n",
    "    # construct dataframe of the submission\n",
    "    index = pd.Series(\n",
    "        [f.split('/')[-1] for f in test_batches.filenames],\n",
    "        name='img'\n",
    "    )\n",
    "\n",
    "    df = pd.DataFrame(\n",
    "        preds[:test_batches.samples, :],\n",
    "        index=index,\n",
    "        columns=classes\n",
    "    )\n",
    "\n",
    "    return df.sort_index()"
   ]
  },
  {
   "cell_type": "code",
   "execution_count": null,
   "metadata": {
    "collapsed": true
   },
   "outputs": [],
   "source": [
    "test_batches = get_batches(\n",
    "    full_data_path + 'test', shuffle=False, batch_size=batch_size * 2,\n",
    "    class_mode=None)\n",
    "train_batches = get_batches(\n",
    "    full_data_path + 'train', shuffle=False, batch_size=batch_size,\n",
    "    class_mode=None)\n",
    "classes = sorted(train_batches.class_indices)"
   ]
  },
  {
   "cell_type": "code",
   "execution_count": null,
   "metadata": {
    "collapsed": true
   },
   "outputs": [],
   "source": [
    "model = keras.models.load_model(samp_data_path + 'state-farm-cnn.h5')"
   ]
  },
  {
   "cell_type": "code",
   "execution_count": null,
   "metadata": {
    "collapsed": true
   },
   "outputs": [],
   "source": [
    "# predict\n",
    "preds = model.predict_generator(\n",
    "    test_batches, \n",
    "    int(math.ceil(test_batches.samples / test_batches.batch_size))\n",
    ")"
   ]
  },
  {
   "cell_type": "code",
   "execution_count": null,
   "metadata": {
    "collapsed": true
   },
   "outputs": [],
   "source": [
    "df = submission_df(preds, test_batches, classes)\n",
    "df = df.clip(0.05, 0.95)\n",
    "df.to_csv(full_data_path + 'submission.csv', index=True)"
   ]
  },
  {
   "cell_type": "code",
   "execution_count": null,
   "metadata": {
    "collapsed": true
   },
   "outputs": [],
   "source": [
    "import subprocess\n",
    "\n",
    "cmd = [\n",
    "    'kg',\n",
    "    'submit',\n",
    "    '-u', os.environ['KAGGLE_USERNAME'],\n",
    "    '-p', os.environ['KAGGLE_PASSWORD'],\n",
    "    '-c', 'state-farm-distracted-driver-detection',\n",
    "    full_data_path + 'submission.csv'\n",
    "]\n",
    "\n",
    "subprocess.call(cmd)"
   ]
  },
  {
   "cell_type": "code",
   "execution_count": null,
   "metadata": {
    "collapsed": true
   },
   "outputs": [],
   "source": []
  }
 ],
 "metadata": {
  "kernelspec": {
   "display_name": "Python 3",
   "language": "python",
   "name": "python3"
  },
  "language_info": {
   "codemirror_mode": {
    "name": "ipython",
    "version": 3
   },
   "file_extension": ".py",
   "mimetype": "text/x-python",
   "name": "python",
   "nbconvert_exporter": "python",
   "pygments_lexer": "ipython3",
   "version": "3.6.3"
  }
 },
 "nbformat": 4,
 "nbformat_minor": 2
}
