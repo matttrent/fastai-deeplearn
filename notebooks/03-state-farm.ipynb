{
 "cells": [
  {
   "cell_type": "code",
   "execution_count": 36,
   "metadata": {
    "collapsed": true
   },
   "outputs": [],
   "source": [
    "import os\n",
    "import math\n",
    "import glob\n",
    "import shutil\n",
    "import numpy as np\n",
    "import pandas as pd"
   ]
  },
  {
   "cell_type": "markdown",
   "metadata": {},
   "source": [
    "# make full dataset"
   ]
  },
  {
   "cell_type": "code",
   "execution_count": 7,
   "metadata": {},
   "outputs": [
    {
     "name": "stdout",
     "output_type": "stream",
     "text": [
      "/home/ubuntu/data/state-farm\n"
     ]
    }
   ],
   "source": [
    "%cd ~/data/state-farm/"
   ]
  },
  {
   "cell_type": "code",
   "execution_count": 14,
   "metadata": {},
   "outputs": [
    {
     "name": "stdout",
     "output_type": "stream",
     "text": [
      "rm: cannot remove 'valid': No such file or directory\r\n"
     ]
    }
   ],
   "source": [
    "%rm -r test\n",
    "%rm -r train\n",
    "%rm -r valid"
   ]
  },
  {
   "cell_type": "code",
   "execution_count": null,
   "metadata": {
    "collapsed": true
   },
   "outputs": [],
   "source": [
    "!unzip -q -o driver_imgs_list.csv.zip\n",
    "!unzip -q imgs.zip"
   ]
  },
  {
   "cell_type": "code",
   "execution_count": 16,
   "metadata": {},
   "outputs": [],
   "source": [
    "%mv test unknown\n",
    "%mkdir test\n",
    "%mv unknown test"
   ]
  },
  {
   "cell_type": "code",
   "execution_count": 20,
   "metadata": {
    "collapsed": true
   },
   "outputs": [],
   "source": [
    "%mkdir valid"
   ]
  },
  {
   "cell_type": "code",
   "execution_count": 21,
   "metadata": {},
   "outputs": [],
   "source": [
    "for dd in glob.glob('train/c?'):\n",
    "    d = os.path.split(dd)[-1]\n",
    "    os.mkdir('valid/'+d)"
   ]
  },
  {
   "cell_type": "code",
   "execution_count": 35,
   "metadata": {},
   "outputs": [
    {
     "name": "stdout",
     "output_type": "stream",
     "text": [
      "['p045', 'p042', 'p056']\n"
     ]
    },
    {
     "data": {
      "text/html": [
       "<div>\n",
       "<style>\n",
       "    .dataframe thead tr:only-child th {\n",
       "        text-align: right;\n",
       "    }\n",
       "\n",
       "    .dataframe thead th {\n",
       "        text-align: left;\n",
       "    }\n",
       "\n",
       "    .dataframe tbody tr th {\n",
       "        vertical-align: top;\n",
       "    }\n",
       "</style>\n",
       "<table border=\"1\" class=\"dataframe\">\n",
       "  <thead>\n",
       "    <tr style=\"text-align: right;\">\n",
       "      <th></th>\n",
       "      <th>subject</th>\n",
       "      <th>classname</th>\n",
       "      <th>img</th>\n",
       "    </tr>\n",
       "  </thead>\n",
       "  <tbody>\n",
       "    <tr>\n",
       "      <th>11373</th>\n",
       "      <td>p042</td>\n",
       "      <td>c0</td>\n",
       "      <td>img_44073.jpg</td>\n",
       "    </tr>\n",
       "    <tr>\n",
       "      <th>11374</th>\n",
       "      <td>p042</td>\n",
       "      <td>c0</td>\n",
       "      <td>img_10570.jpg</td>\n",
       "    </tr>\n",
       "    <tr>\n",
       "      <th>11375</th>\n",
       "      <td>p042</td>\n",
       "      <td>c0</td>\n",
       "      <td>img_50819.jpg</td>\n",
       "    </tr>\n",
       "    <tr>\n",
       "      <th>11376</th>\n",
       "      <td>p042</td>\n",
       "      <td>c0</td>\n",
       "      <td>img_63414.jpg</td>\n",
       "    </tr>\n",
       "    <tr>\n",
       "      <th>11377</th>\n",
       "      <td>p042</td>\n",
       "      <td>c0</td>\n",
       "      <td>img_17524.jpg</td>\n",
       "    </tr>\n",
       "  </tbody>\n",
       "</table>\n",
       "</div>"
      ],
      "text/plain": [
       "      subject classname            img\n",
       "11373    p042        c0  img_44073.jpg\n",
       "11374    p042        c0  img_10570.jpg\n",
       "11375    p042        c0  img_50819.jpg\n",
       "11376    p042        c0  img_63414.jpg\n",
       "11377    p042        c0  img_17524.jpg"
      ]
     },
     "execution_count": 35,
     "metadata": {},
     "output_type": "execute_result"
    }
   ],
   "source": [
    "df = pd.read_csv(os.path.expanduser('~/data/state-farm/driver_imgs_list.csv'))\n",
    "subjects = df.subject.unique().tolist()\n",
    "\n",
    "shuf = np.random.permutation(subjects)\n",
    "n_sub = int(math.ceil(len(subjects) / 10.))\n",
    "valid_subjects = shuf[:n_sub].tolist()\n",
    "\n",
    "print(valid_subjects)\n",
    "\n",
    "valid_df = df[df.subject.isin(valid_subjects)]\n",
    "valid_df.head()"
   ]
  },
  {
   "cell_type": "code",
   "execution_count": 37,
   "metadata": {},
   "outputs": [],
   "source": [
    "for idx, row in valid_df.iterrows():\n",
    "    file_str = '{}/{}'.format(row.classname, row.img)\n",
    "    shutil.move('train/' + file_str, 'valid/' + file_str)"
   ]
  },
  {
   "cell_type": "markdown",
   "metadata": {},
   "source": [
    "# make sample dataset"
   ]
  },
  {
   "cell_type": "code",
   "execution_count": 38,
   "metadata": {},
   "outputs": [
    {
     "name": "stdout",
     "output_type": "stream",
     "text": [
      "/home/ubuntu/data/state-farm\n"
     ]
    }
   ],
   "source": [
    "%cd ~/data/state-farm/\n",
    "\n",
    "%rm -rf ../sample-state-farm/\n",
    "\n",
    "%mkdir ../sample-state-farm\n",
    "%mkdir ../sample-state-farm/train\n",
    "%mkdir ../sample-state-farm/valid\n",
    "%mkdir ../sample-state-farm/test"
   ]
  },
  {
   "cell_type": "code",
   "execution_count": 40,
   "metadata": {},
   "outputs": [],
   "source": [
    "for dd in glob.glob('train/c?'):\n",
    "    d = os.path.split(dd)[-1]\n",
    "    os.mkdir('../sample-state-farm/train/'+d)\n",
    "    os.mkdir('../sample-state-farm/valid/'+d)"
   ]
  },
  {
   "cell_type": "code",
   "execution_count": 41,
   "metadata": {},
   "outputs": [
    {
     "name": "stdout",
     "output_type": "stream",
     "text": [
      "/home/ubuntu/data/state-farm/train\n"
     ]
    }
   ],
   "source": [
    "%cd train"
   ]
  },
  {
   "cell_type": "code",
   "execution_count": 43,
   "metadata": {},
   "outputs": [],
   "source": [
    "g = glob.glob('c?/*.jpg')\n",
    "shuf = np.random.permutation(g)\n",
    "for i in range(1500):\n",
    "    shutil.copyfile(shuf[i], '../../sample-state-farm/train/' + shuf[i])"
   ]
  },
  {
   "cell_type": "code",
   "execution_count": 44,
   "metadata": {},
   "outputs": [
    {
     "name": "stdout",
     "output_type": "stream",
     "text": [
      "/home/ubuntu/data/state-farm/valid\n"
     ]
    }
   ],
   "source": [
    "%cd ../valid/"
   ]
  },
  {
   "cell_type": "code",
   "execution_count": 45,
   "metadata": {
    "collapsed": true
   },
   "outputs": [],
   "source": [
    "g = glob.glob('c?/*.jpg')\n",
    "shuf = np.random.permutation(g)\n",
    "for i in range(1000):\n",
    "    shutil.copyfile(shuf[i], '../../sample-state-farm/valid/' + shuf[i])"
   ]
  },
  {
   "cell_type": "code",
   "execution_count": null,
   "metadata": {
    "collapsed": true
   },
   "outputs": [],
   "source": []
  }
 ],
 "metadata": {
  "kernelspec": {
   "display_name": "Python 2",
   "language": "python",
   "name": "python2"
  },
  "language_info": {
   "codemirror_mode": {
    "name": "ipython",
    "version": 2
   },
   "file_extension": ".py",
   "mimetype": "text/x-python",
   "name": "python",
   "nbconvert_exporter": "python",
   "pygments_lexer": "ipython2",
   "version": "2.7.13"
  }
 },
 "nbformat": 4,
 "nbformat_minor": 2
}
