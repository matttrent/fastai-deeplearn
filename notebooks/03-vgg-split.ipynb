{
 "cells": [
  {
   "cell_type": "code",
   "execution_count": 1,
   "metadata": {},
   "outputs": [
    {
     "name": "stderr",
     "output_type": "stream",
     "text": [
      "Using TensorFlow backend.\n"
     ]
    }
   ],
   "source": [
    "import fastai\n",
    "from fastai.fautils import *"
   ]
  },
  {
   "cell_type": "code",
   "execution_count": 2,
   "metadata": {
    "collapsed": true
   },
   "outputs": [],
   "source": [
    "%matplotlib inline\n",
    "import matplotlib as mlp\n",
    "import matplotlib.pyplot as plt"
   ]
  },
  {
   "cell_type": "code",
   "execution_count": 3,
   "metadata": {
    "collapsed": true
   },
   "outputs": [],
   "source": [
    "full_data_path = os.path.expanduser('~/data/state-farm/')\n",
    "samp_data_path = os.path.expanduser('~/data/sample-state-farm/')\n",
    "data_path = full_data_path\n",
    "batch_size = 32"
   ]
  },
  {
   "cell_type": "markdown",
   "metadata": {},
   "source": [
    "In this notebook, we experiment with splitting VGG into to convolutional and fully connected layers to accelerate the fine-tuning process.  When fine-tuning, we generally don't alter the convolutional layers.  They've been learned from very large datasets and tend to be tuned to the distribution of image content (to some degree more or less depending on the distribution of data and labels -- ala the Imagenet tendency towards dog faces).\n",
    "\n",
    "The reason for this approach is that most of the computational work is in the convolutional layers.  Since they tend not to change in most experiments (the computational cost of training them anew to convergence is too high), we can precompute them.  Then we can construct a second network that takes the output of the convolution-only network as input and can iterate much more rapidly on that.\n",
    "\n",
    "We're going to:\n",
    "\n",
    "- construct a conventional VGG model\n",
    "- split it at the division between the convolutional layers and the FC layers\n",
    "- we'll take our entire dataset and run it through the convolutional layers, and store the result\n",
    "- we'll then construct a secondary model that takes the convolutional output for input, and outputs the desired prediction\n",
    "- we'll then train that network on the stored convolutional output\n",
    "\n",
    "This way we can reduce a 10+ minute training per epoch to 22 seconds."
   ]
  },
  {
   "cell_type": "markdown",
   "metadata": {},
   "source": [
    "# create batches"
   ]
  },
  {
   "cell_type": "code",
   "execution_count": 4,
   "metadata": {},
   "outputs": [
    {
     "name": "stdout",
     "output_type": "stream",
     "text": [
      "Found 20315 images belonging to 10 classes.\n",
      "Found 2109 images belonging to 10 classes.\n",
      "Found 20315 images belonging to 10 classes.\n",
      "Found 20315 images belonging to 10 classes.\n",
      "Found 2109 images belonging to 10 classes.\n",
      "Found 79726 images belonging to 1 classes.\n"
     ]
    }
   ],
   "source": [
    "gen_t = image.ImageDataGenerator(\n",
    "    width_shift_range=0.05,\n",
    "    height_shift_range=0.15,\n",
    "    shear_range=0.15,\n",
    "    rotation_range=15,\n",
    "    channel_shift_range=30\n",
    ")\n",
    "\n",
    "t_batches = get_batches(data_path + 'train', batch_size=batch_size, shuffle=False)\n",
    "v_batches = get_batches(data_path + 'valid', batch_size=2*batch_size, shuffle=False)\n",
    "a_batches = get_batches(data_path + 'train', gen_t, batch_size=batch_size)\n",
    "\n",
    "(\n",
    "    val_classes, trn_classes, \n",
    "    val_labels, trn_labels, \n",
    "    val_filenames, filenames,\n",
    "    test_filename\n",
    ") = get_classes(data_path)"
   ]
  },
  {
   "cell_type": "markdown",
   "metadata": {},
   "source": [
    "# construct initial VGG network, then split"
   ]
  },
  {
   "cell_type": "code",
   "execution_count": 5,
   "metadata": {},
   "outputs": [],
   "source": [
    "from fastai import vgg162\n",
    "from keras.applications import VGG16\n",
    "\n",
    "# vgg = vgg_ft(10)\n",
    "# model = vgg.model\n",
    "\n",
    "model = VGG16(pooling='max')\n",
    "# model.summary()"
   ]
  },
  {
   "cell_type": "code",
   "execution_count": 6,
   "metadata": {
    "collapsed": true
   },
   "outputs": [],
   "source": [
    "# def finetune(model, n):\n",
    "#     model.layers.pop()\n",
    "#     for layer in model.layers: \n",
    "#         layer.trainable=False\n",
    "#     model.layers.add(keras.layers.Dense(num, activation='softmax'))\n",
    "#     self.compile()\n",
    "    \n",
    "#     return model"
   ]
  },
  {
   "cell_type": "code",
   "execution_count": 7,
   "metadata": {},
   "outputs": [
    {
     "name": "stdout",
     "output_type": "stream",
     "text": [
      "_________________________________________________________________\n",
      "Layer (type)                 Output Shape              Param #   \n",
      "=================================================================\n",
      "input_1 (InputLayer)         (None, 224, 224, 3)       0         \n",
      "_________________________________________________________________\n",
      "block1_conv1 (Conv2D)        (None, 224, 224, 64)      1792      \n",
      "_________________________________________________________________\n",
      "block1_conv2 (Conv2D)        (None, 224, 224, 64)      36928     \n",
      "_________________________________________________________________\n",
      "block1_pool (MaxPooling2D)   (None, 112, 112, 64)      0         \n",
      "_________________________________________________________________\n",
      "block2_conv1 (Conv2D)        (None, 112, 112, 128)     73856     \n",
      "_________________________________________________________________\n",
      "block2_conv2 (Conv2D)        (None, 112, 112, 128)     147584    \n",
      "_________________________________________________________________\n",
      "block2_pool (MaxPooling2D)   (None, 56, 56, 128)       0         \n",
      "_________________________________________________________________\n",
      "block3_conv1 (Conv2D)        (None, 56, 56, 256)       295168    \n",
      "_________________________________________________________________\n",
      "block3_conv2 (Conv2D)        (None, 56, 56, 256)       590080    \n",
      "_________________________________________________________________\n",
      "block3_conv3 (Conv2D)        (None, 56, 56, 256)       590080    \n",
      "_________________________________________________________________\n",
      "block3_pool (MaxPooling2D)   (None, 28, 28, 256)       0         \n",
      "_________________________________________________________________\n",
      "block4_conv1 (Conv2D)        (None, 28, 28, 512)       1180160   \n",
      "_________________________________________________________________\n",
      "block4_conv2 (Conv2D)        (None, 28, 28, 512)       2359808   \n",
      "_________________________________________________________________\n",
      "block4_conv3 (Conv2D)        (None, 28, 28, 512)       2359808   \n",
      "_________________________________________________________________\n",
      "block4_pool (MaxPooling2D)   (None, 14, 14, 512)       0         \n",
      "_________________________________________________________________\n",
      "block5_conv1 (Conv2D)        (None, 14, 14, 512)       2359808   \n",
      "_________________________________________________________________\n",
      "block5_conv2 (Conv2D)        (None, 14, 14, 512)       2359808   \n",
      "_________________________________________________________________\n",
      "block5_conv3 (Conv2D)        (None, 14, 14, 512)       2359808   \n",
      "_________________________________________________________________\n",
      "block5_pool (MaxPooling2D)   (None, 7, 7, 512)         0         \n",
      "_________________________________________________________________\n",
      "flatten (Flatten)            (None, 25088)             0         \n",
      "_________________________________________________________________\n",
      "fc1 (Dense)                  (None, 4096)              102764544 \n",
      "_________________________________________________________________\n",
      "fc2 (Dense)                  (None, 4096)              16781312  \n",
      "_________________________________________________________________\n",
      "predictions (Dense)          (None, 1000)              4097000   \n",
      "=================================================================\n",
      "Total params: 138,357,544\n",
      "Trainable params: 138,357,544\n",
      "Non-trainable params: 0\n",
      "_________________________________________________________________\n"
     ]
    }
   ],
   "source": [
    "# model = finetune(model, 10)\n",
    "\n",
    "lr = 1e-3\n",
    "epochs = 25.\n",
    "decay_rate = lr / epochs\n",
    "\n",
    "model.compile(\n",
    "    optimizer=Adam(lr=1e-3, decay=decay_rate),\n",
    "    loss='categorical_crossentropy',\n",
    "    metrics=['accuracy']\n",
    ")\n",
    "\n",
    "model.summary()"
   ]
  },
  {
   "cell_type": "code",
   "execution_count": 8,
   "metadata": {
    "collapsed": true
   },
   "outputs": [],
   "source": [
    "# h = model.fit_generator(\n",
    "#     t_batches, \n",
    "#     t_batches.nb_sample, \n",
    "#     nb_epoch=25, \n",
    "#     validation_data=v_batches, \n",
    "#     nb_val_samples=v_batches.nb_sample\n",
    "# )"
   ]
  },
  {
   "cell_type": "code",
   "execution_count": 9,
   "metadata": {},
   "outputs": [
    {
     "name": "stdout",
     "output_type": "stream",
     "text": [
      "17\n"
     ]
    },
    {
     "data": {
      "text/plain": [
       "<keras.layers.convolutional.Conv2D at 0x7fd256e30c50>"
      ]
     },
     "execution_count": 9,
     "metadata": {},
     "output_type": "execute_result"
    }
   ],
   "source": [
    "layers = model.layers\n",
    "\n",
    "last_conv_idx = [\n",
    "    index \n",
    "    for index, layer in enumerate(layers)\n",
    "    if type(layer) is Conv2D\n",
    "][-1]\n",
    "\n",
    "print(last_conv_idx)\n",
    "layers[last_conv_idx]"
   ]
  },
  {
   "cell_type": "code",
   "execution_count": 10,
   "metadata": {
    "collapsed": true
   },
   "outputs": [],
   "source": [
    "conv_layers = layers[:last_conv_idx+1]\n",
    "conv_model = Sequential(conv_layers)"
   ]
  },
  {
   "cell_type": "code",
   "execution_count": null,
   "metadata": {
    "collapsed": true
   },
   "outputs": [],
   "source": [
    "fc_layers = layers[last_conv_idx+1:]\n",
    "fc_model = Sequential(fc_layers)"
   ]
  },
  {
   "cell_type": "markdown",
   "metadata": {},
   "source": [
    "# precompute, store reload"
   ]
  },
  {
   "cell_type": "code",
   "execution_count": null,
   "metadata": {},
   "outputs": [],
   "source": [
    "t_features = conv_model.predict_generator(t_batches, t_batches.samples)\n",
    "v_features = conv_model.predict_generator(v_batches, v_batches.samples)\n",
    "\n",
    "save_array(data_path + 'train_convlayer_features.bc', t_features)\n",
    "save_array(data_path + 'valid_convlayer_features.bc', v_features)"
   ]
  },
  {
   "cell_type": "code",
   "execution_count": null,
   "metadata": {},
   "outputs": [],
   "source": [
    "t_features = load_array(data_path + 'train_convlayer_features.bc')\n",
    "v_features = load_array(data_path + 'valid_convlayer_features.bc')\n",
    "\n",
    "t_features.shape"
   ]
  },
  {
   "cell_type": "markdown",
   "metadata": {},
   "source": [
    "# create second network and train\n",
    "\n",
    "**NOTE:** I had hoped to just use the 2nd half of the split network above directly, but that didn't work.  I needed to recreate it with the same configuration as I did here.  Or I could have chose another configuration entirely.\n",
    "\n",
    "Regardless, I think you need to manually recreate the new network, opposed to borrowing the previously-split one.  That's something to be validated.\n",
    "\n",
    "The most important part is the first level.  I'm not sure why the tutorial said to include the max pooling layer here, opposed to leave it in the convolutional precomputation.  But the `input_shape` is important to match to the dimensions shown in `t_features.shape` above.  Except the first dimension, that's the numeber of examples.  We exclude that."
   ]
  },
  {
   "cell_type": "code",
   "execution_count": 24,
   "metadata": {
    "collapsed": true
   },
   "outputs": [],
   "source": [
    "lr = 1e-5\n",
    "epochs = 25.\n",
    "decay_rate = lr / epochs\n",
    "\n",
    "model = Sequential([\n",
    "    MaxPooling2D((2, 2), strides=(2, 2), input_shape=(512, 14, 14)),\n",
    "    Flatten(),\n",
    "    Dense(4096, activation='relu'),\n",
    "    Dropout(.5),\n",
    "    Dense(4096, activation='relu'),\n",
    "    Dropout(.5),\n",
    "    Dense(10, activation='softmax'),\n",
    "])\n",
    "\n",
    "model.compile(\n",
    "    optimizer=Adam(lr=lr, decay=decay_rate),\n",
    "    loss='categorical_crossentropy',\n",
    "    metrics=['accuracy']\n",
    ")"
   ]
  },
  {
   "cell_type": "code",
   "execution_count": 25,
   "metadata": {
    "scrolled": false
   },
   "outputs": [
    {
     "name": "stdout",
     "output_type": "stream",
     "text": [
      "Train on 20424 samples, validate on 2000 samples\n",
      "Epoch 1/25\n",
      "20424/20424 [==============================] - 22s - loss: 7.5257 - acc: 0.4363 - val_loss: 1.1177 - val_acc: 0.9025\n",
      "Epoch 2/25\n",
      "20424/20424 [==============================] - 22s - loss: 1.8291 - acc: 0.8290 - val_loss: 0.2732 - val_acc: 0.9705\n",
      "Epoch 3/25\n",
      "20424/20424 [==============================] - 22s - loss: 0.8057 - acc: 0.9198 - val_loss: 0.1633 - val_acc: 0.9815\n",
      "Epoch 4/25\n",
      "20424/20424 [==============================] - 22s - loss: 0.4859 - acc: 0.9471 - val_loss: 0.1060 - val_acc: 0.9905\n",
      "Epoch 5/25\n",
      "20424/20424 [==============================] - 22s - loss: 0.3180 - acc: 0.9634 - val_loss: 0.0671 - val_acc: 0.9910\n",
      "Epoch 6/25\n",
      "20424/20424 [==============================] - 22s - loss: 0.2378 - acc: 0.9720 - val_loss: 0.0513 - val_acc: 0.9935\n",
      "Epoch 7/25\n",
      "20424/20424 [==============================] - 22s - loss: 0.1759 - acc: 0.9778 - val_loss: 0.0481 - val_acc: 0.9960\n",
      "Epoch 8/25\n",
      "20424/20424 [==============================] - 22s - loss: 0.1478 - acc: 0.9820 - val_loss: 0.0465 - val_acc: 0.9965\n",
      "Epoch 9/25\n",
      "20424/20424 [==============================] - 22s - loss: 0.1151 - acc: 0.9854 - val_loss: 0.0430 - val_acc: 0.9955\n",
      "Epoch 10/25\n",
      "20424/20424 [==============================] - 22s - loss: 0.1109 - acc: 0.9864 - val_loss: 0.0452 - val_acc: 0.9955\n",
      "Epoch 11/25\n",
      "20424/20424 [==============================] - 22s - loss: 0.0919 - acc: 0.9886 - val_loss: 0.0438 - val_acc: 0.9965\n",
      "Epoch 12/25\n",
      "20424/20424 [==============================] - 22s - loss: 0.0920 - acc: 0.9882 - val_loss: 0.0394 - val_acc: 0.9955\n",
      "Epoch 13/25\n",
      "20424/20424 [==============================] - 22s - loss: 0.0832 - acc: 0.9899 - val_loss: 0.0338 - val_acc: 0.9970\n",
      "Epoch 14/25\n",
      "20424/20424 [==============================] - 22s - loss: 0.0752 - acc: 0.9906 - val_loss: 0.0354 - val_acc: 0.9970\n",
      "Epoch 15/25\n",
      "20424/20424 [==============================] - 22s - loss: 0.0668 - acc: 0.9917 - val_loss: 0.0436 - val_acc: 0.9965\n",
      "Epoch 16/25\n",
      "20424/20424 [==============================] - 22s - loss: 0.0592 - acc: 0.9920 - val_loss: 0.0482 - val_acc: 0.9955\n",
      "Epoch 17/25\n",
      "20424/20424 [==============================] - 22s - loss: 0.0689 - acc: 0.9916 - val_loss: 0.0444 - val_acc: 0.9955\n",
      "Epoch 18/25\n",
      "20424/20424 [==============================] - 22s - loss: 0.0641 - acc: 0.9916 - val_loss: 0.0166 - val_acc: 0.9985\n",
      "Epoch 19/25\n",
      "20424/20424 [==============================] - 22s - loss: 0.0565 - acc: 0.9928 - val_loss: 0.0133 - val_acc: 0.9985\n",
      "Epoch 20/25\n",
      "20424/20424 [==============================] - 22s - loss: 0.0529 - acc: 0.9936 - val_loss: 0.0247 - val_acc: 0.9975\n",
      "Epoch 21/25\n",
      "20424/20424 [==============================] - 22s - loss: 0.0515 - acc: 0.9940 - val_loss: 0.0108 - val_acc: 0.9990\n",
      "Epoch 22/25\n",
      "20424/20424 [==============================] - 22s - loss: 0.0555 - acc: 0.9937 - val_loss: 0.0378 - val_acc: 0.9960\n",
      "Epoch 23/25\n",
      "20424/20424 [==============================] - 22s - loss: 0.0402 - acc: 0.9945 - val_loss: 0.0228 - val_acc: 0.9975\n",
      "Epoch 24/25\n",
      "20424/20424 [==============================] - 22s - loss: 0.0418 - acc: 0.9951 - val_loss: 0.0118 - val_acc: 0.9985\n",
      "Epoch 25/25\n",
      "20424/20424 [==============================] - 22s - loss: 0.0519 - acc: 0.9936 - val_loss: 0.0183 - val_acc: 0.9980\n"
     ]
    }
   ],
   "source": [
    "h = model.fit(\n",
    "    t_features, \n",
    "    trn_labels, \n",
    "    nb_epoch=25,\n",
    "    batch_size=batch_size,\n",
    "    validation_data=(v_features, val_labels)\n",
    ")"
   ]
  },
  {
   "cell_type": "code",
   "execution_count": 28,
   "metadata": {},
   "outputs": [
    {
     "data": {
      "text/plain": [
       "[<matplotlib.lines.Line2D at 0x7fe29d98b7d0>]"
      ]
     },
     "execution_count": 28,
     "metadata": {},
     "output_type": "execute_result"
    },
    {
     "data": {
      "image/png": "[encoded data removed]",
      "text/plain": [
       "<matplotlib.figure.Figure at 0x7fe29d98b390>"
      ]
     },
     "metadata": {},
     "output_type": "display_data"
    }
   ],
   "source": [
    "plt.plot(h.history['acc'])\n",
    "plt.plot(h.history['val_acc'])"
   ]
  },
  {
   "cell_type": "code",
   "execution_count": null,
   "metadata": {
    "collapsed": true
   },
   "outputs": [],
   "source": []
  }
 ],
 "metadata": {
  "kernelspec": {
   "display_name": "Python 3",
   "language": "python",
   "name": "python3"
  },
  "language_info": {
   "codemirror_mode": {
    "name": "ipython",
    "version": 3
   },
   "file_extension": ".py",
   "mimetype": "text/x-python",
   "name": "python",
   "nbconvert_exporter": "python",
   "pygments_lexer": "ipython3",
   "version": "3.6.2"
  }
 },
 "nbformat": 4,
 "nbformat_minor": 2
}
